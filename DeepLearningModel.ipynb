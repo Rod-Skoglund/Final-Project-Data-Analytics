{
 "cells": [
  {
   "cell_type": "code",
   "execution_count": 1,
   "metadata": {
    "colab": {},
    "colab_type": "code",
    "id": "_i9gvPDAjlHK"
   },
   "outputs": [],
   "source": [
    "# Set the seed value for the notebook so the results are reproducible\n",
    "from numpy.random import seed\n",
    "seed(1)"
   ]
  },
  {
   "cell_type": "code",
   "execution_count": 2,
   "metadata": {
    "colab": {},
    "colab_type": "code",
    "id": "Q9LrhW8qjt3j"
   },
   "outputs": [],
   "source": [
    "# Dependencies\n",
    "import numpy as np\n",
    "import pandas as pd\n",
    "import ssl\n",
    "ssl._create_default_https_context = ssl._create_unverified_context"
   ]
  },
  {
   "cell_type": "code",
   "execution_count": 3,
   "metadata": {
    "colab": {
     "base_uri": "https://localhost:8080/",
     "height": 34
    },
    "colab_type": "code",
    "id": "UMLrO17Ejxtz",
    "outputId": "3466da12-dc13-4a4f-b789-42cbbda29f57"
   },
   "outputs": [
    {
     "data": {
      "text/plain": [
       "'2.2.4-tf'"
      ]
     },
     "execution_count": 3,
     "metadata": {},
     "output_type": "execute_result"
    }
   ],
   "source": [
    "import tensorflow\n",
    "tensorflow.keras.__version__"
   ]
  },
  {
   "cell_type": "code",
   "execution_count": 4,
   "metadata": {
    "colab": {
     "base_uri": "https://localhost:8080/",
     "height": 391
    },
    "colab_type": "code",
    "id": "_u3Oeg0Dj6Kh",
    "outputId": "e3773fe7-db1a-4e56-d1b8-3790da4f2fd3"
   },
   "outputs": [
    {
     "data": {
      "text/html": [
       "<div>\n",
       "<style scoped>\n",
       "    .dataframe tbody tr th:only-of-type {\n",
       "        vertical-align: middle;\n",
       "    }\n",
       "\n",
       "    .dataframe tbody tr th {\n",
       "        vertical-align: top;\n",
       "    }\n",
       "\n",
       "    .dataframe thead th {\n",
       "        text-align: right;\n",
       "    }\n",
       "</style>\n",
       "<table border=\"1\" class=\"dataframe\">\n",
       "  <thead>\n",
       "    <tr style=\"text-align: right;\">\n",
       "      <th></th>\n",
       "      <th>datetime</th>\n",
       "      <th>city</th>\n",
       "      <th>state</th>\n",
       "      <th>country</th>\n",
       "      <th>shape</th>\n",
       "      <th>duration (seconds)</th>\n",
       "      <th>duration (hours/min)</th>\n",
       "      <th>comments</th>\n",
       "      <th>date posted</th>\n",
       "      <th>latitude</th>\n",
       "      <th>longitude</th>\n",
       "      <th>month</th>\n",
       "      <th>season</th>\n",
       "      <th>time of day</th>\n",
       "      <th>part of day</th>\n",
       "    </tr>\n",
       "  </thead>\n",
       "  <tbody>\n",
       "    <tr>\n",
       "      <th>0</th>\n",
       "      <td>1/10/1947 20:00</td>\n",
       "      <td>conroe</td>\n",
       "      <td>tx</td>\n",
       "      <td>us</td>\n",
       "      <td>other</td>\n",
       "      <td>4</td>\n",
       "      <td>3 to4 sec.</td>\n",
       "      <td>The date was early 1947 before Arnold&amp;#39s &amp;qu...</td>\n",
       "      <td>4/16/2005</td>\n",
       "      <td>30.3116667</td>\n",
       "      <td>-95.4558333</td>\n",
       "      <td>1</td>\n",
       "      <td>Winter</td>\n",
       "      <td>8:00 PM</td>\n",
       "      <td>EVENING</td>\n",
       "    </tr>\n",
       "    <tr>\n",
       "      <th>1</th>\n",
       "      <td>1/10/1959 18:30</td>\n",
       "      <td>south san francisco</td>\n",
       "      <td>ca</td>\n",
       "      <td>us</td>\n",
       "      <td>disk</td>\n",
       "      <td>120</td>\n",
       "      <td>2 minutes</td>\n",
       "      <td>Its was approximately 6:30pm&amp;#44 I was sitting...</td>\n",
       "      <td>4/27/2004</td>\n",
       "      <td>37.6547222</td>\n",
       "      <td>-122.4066667</td>\n",
       "      <td>1</td>\n",
       "      <td>Winter</td>\n",
       "      <td>6:30 PM</td>\n",
       "      <td>EVENING</td>\n",
       "    </tr>\n",
       "    <tr>\n",
       "      <th>2</th>\n",
       "      <td>1/10/1964 20:00</td>\n",
       "      <td>el cerrito (over old berkeley dump)</td>\n",
       "      <td>ca</td>\n",
       "      <td>us</td>\n",
       "      <td>fireball</td>\n",
       "      <td>120</td>\n",
       "      <td>2 minutes</td>\n",
       "      <td>bal of fire in the sky no reported air crashes...</td>\n",
       "      <td>5/15/2006</td>\n",
       "      <td>37.9158333</td>\n",
       "      <td>-122.3105556</td>\n",
       "      <td>1</td>\n",
       "      <td>Winter</td>\n",
       "      <td>8:00 PM</td>\n",
       "      <td>EVENING</td>\n",
       "    </tr>\n",
       "    <tr>\n",
       "      <th>3</th>\n",
       "      <td>1/10/1980 0:00</td>\n",
       "      <td>exeter</td>\n",
       "      <td>nh</td>\n",
       "      <td>us</td>\n",
       "      <td>disk</td>\n",
       "      <td>7800</td>\n",
       "      <td>10min to 2hrs</td>\n",
       "      <td>saw what appeared as very bright star&amp;#44 some...</td>\n",
       "      <td>2/18/2001</td>\n",
       "      <td>42.9813889</td>\n",
       "      <td>-70.9483333</td>\n",
       "      <td>1</td>\n",
       "      <td>Winter</td>\n",
       "      <td>12:00 AM</td>\n",
       "      <td>NIGHT</td>\n",
       "    </tr>\n",
       "    <tr>\n",
       "      <th>4</th>\n",
       "      <td>1/10/1981 20:30</td>\n",
       "      <td>glendora</td>\n",
       "      <td>ca</td>\n",
       "      <td>us</td>\n",
       "      <td>unknown</td>\n",
       "      <td>60</td>\n",
       "      <td>1 minute</td>\n",
       "      <td>On a very foggy night in 1981 I was illuminate...</td>\n",
       "      <td>2/18/2001</td>\n",
       "      <td>34.1361111</td>\n",
       "      <td>-117.8644444</td>\n",
       "      <td>1</td>\n",
       "      <td>Winter</td>\n",
       "      <td>8:30 PM</td>\n",
       "      <td>EVENING</td>\n",
       "    </tr>\n",
       "  </tbody>\n",
       "</table>\n",
       "</div>"
      ],
      "text/plain": [
       "          datetime                                 city state country  \\\n",
       "0  1/10/1947 20:00                               conroe    tx      us   \n",
       "1  1/10/1959 18:30                  south san francisco    ca      us   \n",
       "2  1/10/1964 20:00  el cerrito (over old berkeley dump)    ca      us   \n",
       "3   1/10/1980 0:00                               exeter    nh      us   \n",
       "4  1/10/1981 20:30                             glendora    ca      us   \n",
       "\n",
       "      shape duration (seconds) duration (hours/min)  \\\n",
       "0     other                  4           3 to4 sec.   \n",
       "1      disk                120            2 minutes   \n",
       "2  fireball                120            2 minutes   \n",
       "3      disk               7800        10min to 2hrs   \n",
       "4   unknown                 60             1 minute   \n",
       "\n",
       "                                            comments date posted    latitude  \\\n",
       "0  The date was early 1947 before Arnold&#39s &qu...   4/16/2005  30.3116667   \n",
       "1  Its was approximately 6:30pm&#44 I was sitting...   4/27/2004  37.6547222   \n",
       "2  bal of fire in the sky no reported air crashes...   5/15/2006  37.9158333   \n",
       "3  saw what appeared as very bright star&#44 some...   2/18/2001  42.9813889   \n",
       "4  On a very foggy night in 1981 I was illuminate...   2/18/2001  34.1361111   \n",
       "\n",
       "     longitude  month  season time of day part of day  \n",
       "0   -95.4558333     1  Winter     8:00 PM     EVENING  \n",
       "1  -122.4066667     1  Winter     6:30 PM     EVENING  \n",
       "2  -122.3105556     1  Winter     8:00 PM     EVENING  \n",
       "3   -70.9483333     1  Winter    12:00 AM       NIGHT  \n",
       "4  -117.8644444     1  Winter     8:30 PM     EVENING  "
      ]
     },
     "execution_count": 4,
     "metadata": {},
     "output_type": "execute_result"
    }
   ],
   "source": [
    "url = 'https://raw.githubusercontent.com/lucyhohler/Final-Project---Data-Analytics/master/Resources/ufo-sightings.csv'\n",
    "df = pd.read_csv(url, sep=\",\", na_filter=False)\n",
    "df.head()"
   ]
  },
  {
   "cell_type": "code",
   "execution_count": 5,
   "metadata": {
    "colab": {
     "base_uri": "https://localhost:8080/",
     "height": 204
    },
    "colab_type": "code",
    "id": "24lKp2oKkO_x",
    "outputId": "72acb434-dc91-46e7-d42d-6b3ccab96b51"
   },
   "outputs": [
    {
     "data": {
      "text/html": [
       "<div>\n",
       "<style scoped>\n",
       "    .dataframe tbody tr th:only-of-type {\n",
       "        vertical-align: middle;\n",
       "    }\n",
       "\n",
       "    .dataframe tbody tr th {\n",
       "        vertical-align: top;\n",
       "    }\n",
       "\n",
       "    .dataframe thead th {\n",
       "        text-align: right;\n",
       "    }\n",
       "</style>\n",
       "<table border=\"1\" class=\"dataframe\">\n",
       "  <thead>\n",
       "    <tr style=\"text-align: right;\">\n",
       "      <th></th>\n",
       "      <th>datetime</th>\n",
       "      <th>city</th>\n",
       "      <th>state</th>\n",
       "      <th>country</th>\n",
       "      <th>shape</th>\n",
       "      <th>date posted</th>\n",
       "      <th>month</th>\n",
       "      <th>season</th>\n",
       "      <th>part of day</th>\n",
       "    </tr>\n",
       "  </thead>\n",
       "  <tbody>\n",
       "    <tr>\n",
       "      <th>0</th>\n",
       "      <td>1/10/1947 20:00</td>\n",
       "      <td>conroe</td>\n",
       "      <td>tx</td>\n",
       "      <td>us</td>\n",
       "      <td>other</td>\n",
       "      <td>4/16/2005</td>\n",
       "      <td>1</td>\n",
       "      <td>Winter</td>\n",
       "      <td>EVENING</td>\n",
       "    </tr>\n",
       "    <tr>\n",
       "      <th>1</th>\n",
       "      <td>1/10/1959 18:30</td>\n",
       "      <td>south san francisco</td>\n",
       "      <td>ca</td>\n",
       "      <td>us</td>\n",
       "      <td>disk</td>\n",
       "      <td>4/27/2004</td>\n",
       "      <td>1</td>\n",
       "      <td>Winter</td>\n",
       "      <td>EVENING</td>\n",
       "    </tr>\n",
       "    <tr>\n",
       "      <th>2</th>\n",
       "      <td>1/10/1964 20:00</td>\n",
       "      <td>el cerrito (over old berkeley dump)</td>\n",
       "      <td>ca</td>\n",
       "      <td>us</td>\n",
       "      <td>fireball</td>\n",
       "      <td>5/15/2006</td>\n",
       "      <td>1</td>\n",
       "      <td>Winter</td>\n",
       "      <td>EVENING</td>\n",
       "    </tr>\n",
       "    <tr>\n",
       "      <th>3</th>\n",
       "      <td>1/10/1980 0:00</td>\n",
       "      <td>exeter</td>\n",
       "      <td>nh</td>\n",
       "      <td>us</td>\n",
       "      <td>disk</td>\n",
       "      <td>2/18/2001</td>\n",
       "      <td>1</td>\n",
       "      <td>Winter</td>\n",
       "      <td>NIGHT</td>\n",
       "    </tr>\n",
       "    <tr>\n",
       "      <th>4</th>\n",
       "      <td>1/10/1981 20:30</td>\n",
       "      <td>glendora</td>\n",
       "      <td>ca</td>\n",
       "      <td>us</td>\n",
       "      <td>unknown</td>\n",
       "      <td>2/18/2001</td>\n",
       "      <td>1</td>\n",
       "      <td>Winter</td>\n",
       "      <td>EVENING</td>\n",
       "    </tr>\n",
       "  </tbody>\n",
       "</table>\n",
       "</div>"
      ],
      "text/plain": [
       "          datetime                                 city state country  \\\n",
       "0  1/10/1947 20:00                               conroe    tx      us   \n",
       "1  1/10/1959 18:30                  south san francisco    ca      us   \n",
       "2  1/10/1964 20:00  el cerrito (over old berkeley dump)    ca      us   \n",
       "3   1/10/1980 0:00                               exeter    nh      us   \n",
       "4  1/10/1981 20:30                             glendora    ca      us   \n",
       "\n",
       "      shape date posted month  season part of day  \n",
       "0     other   4/16/2005     1  Winter     EVENING  \n",
       "1      disk   4/27/2004     1  Winter     EVENING  \n",
       "2  fireball   5/15/2006     1  Winter     EVENING  \n",
       "3      disk   2/18/2001     1  Winter       NIGHT  \n",
       "4   unknown   2/18/2001     1  Winter     EVENING  "
      ]
     },
     "execution_count": 5,
     "metadata": {},
     "output_type": "execute_result"
    }
   ],
   "source": [
    "data = df.drop(columns=[\"duration (seconds)\", \"duration (hours/min)\", \"comments\", \"latitude\", \"longitude \", \"time of day\"])\n",
    "df1 = df.drop(columns=[\"datetime\", \"city\", \"country\", \"duration (seconds)\", \"duration (hours/min)\", \"comments\", \"date posted\", \"latitude\", \"longitude \", \"month\", \"time of day\"])\n",
    "data.head()"
   ]
  },
  {
   "cell_type": "code",
   "execution_count": 6,
   "metadata": {
    "colab": {
     "base_uri": "https://localhost:8080/",
     "height": 204
    },
    "colab_type": "code",
    "id": "P0eGSKE6Opwi",
    "outputId": "576eaa05-e300-4a34-870a-395353dda81a"
   },
   "outputs": [
    {
     "data": {
      "text/html": [
       "<div>\n",
       "<style scoped>\n",
       "    .dataframe tbody tr th:only-of-type {\n",
       "        vertical-align: middle;\n",
       "    }\n",
       "\n",
       "    .dataframe tbody tr th {\n",
       "        vertical-align: top;\n",
       "    }\n",
       "\n",
       "    .dataframe thead th {\n",
       "        text-align: right;\n",
       "    }\n",
       "</style>\n",
       "<table border=\"1\" class=\"dataframe\">\n",
       "  <thead>\n",
       "    <tr style=\"text-align: right;\">\n",
       "      <th></th>\n",
       "      <th>state</th>\n",
       "      <th>shape</th>\n",
       "      <th>season</th>\n",
       "      <th>part of day</th>\n",
       "      <th>outcome</th>\n",
       "    </tr>\n",
       "  </thead>\n",
       "  <tbody>\n",
       "    <tr>\n",
       "      <th>0</th>\n",
       "      <td>tx</td>\n",
       "      <td>other</td>\n",
       "      <td>Winter</td>\n",
       "      <td>EVENING</td>\n",
       "      <td>0</td>\n",
       "    </tr>\n",
       "    <tr>\n",
       "      <th>1</th>\n",
       "      <td>ca</td>\n",
       "      <td>disk</td>\n",
       "      <td>Winter</td>\n",
       "      <td>EVENING</td>\n",
       "      <td>1</td>\n",
       "    </tr>\n",
       "    <tr>\n",
       "      <th>2</th>\n",
       "      <td>ca</td>\n",
       "      <td>fireball</td>\n",
       "      <td>Winter</td>\n",
       "      <td>EVENING</td>\n",
       "      <td>1</td>\n",
       "    </tr>\n",
       "    <tr>\n",
       "      <th>3</th>\n",
       "      <td>nh</td>\n",
       "      <td>disk</td>\n",
       "      <td>Winter</td>\n",
       "      <td>NIGHT</td>\n",
       "      <td>1</td>\n",
       "    </tr>\n",
       "    <tr>\n",
       "      <th>4</th>\n",
       "      <td>ca</td>\n",
       "      <td>unknown</td>\n",
       "      <td>Winter</td>\n",
       "      <td>EVENING</td>\n",
       "      <td>0</td>\n",
       "    </tr>\n",
       "  </tbody>\n",
       "</table>\n",
       "</div>"
      ],
      "text/plain": [
       "  state     shape  season part of day outcome\n",
       "0    tx     other  Winter     EVENING       0\n",
       "1    ca      disk  Winter     EVENING       1\n",
       "2    ca  fireball  Winter     EVENING       1\n",
       "3    nh      disk  Winter       NIGHT       1\n",
       "4    ca   unknown  Winter     EVENING       0"
      ]
     },
     "execution_count": 6,
     "metadata": {},
     "output_type": "execute_result"
    }
   ],
   "source": [
    "df1['outcome'] = '1'\n",
    "\n",
    "import math\n",
    "\n",
    "for index, row in df1.iterrows():\n",
    "    outcome = '1' \n",
    "    #print(row['shape'])\n",
    "    if not row['shape'] or row['shape'] == 'other' or row['shape'] == 'unknown':\n",
    "        outcome = '0'\n",
    "    row['outcome'] = outcome\n",
    "\n",
    "df1.head()"
   ]
  },
  {
   "cell_type": "code",
   "execution_count": 7,
   "metadata": {
    "colab": {
     "base_uri": "https://localhost:8080/",
     "height": 204
    },
    "colab_type": "code",
    "id": "jqn8Lah1kQ2h",
    "outputId": "89db8826-9c50-478e-968e-7b7c2864c709"
   },
   "outputs": [
    {
     "data": {
      "text/html": [
       "<div>\n",
       "<style scoped>\n",
       "    .dataframe tbody tr th:only-of-type {\n",
       "        vertical-align: middle;\n",
       "    }\n",
       "\n",
       "    .dataframe tbody tr th {\n",
       "        vertical-align: top;\n",
       "    }\n",
       "\n",
       "    .dataframe thead th {\n",
       "        text-align: right;\n",
       "    }\n",
       "</style>\n",
       "<table border=\"1\" class=\"dataframe\">\n",
       "  <thead>\n",
       "    <tr style=\"text-align: right;\">\n",
       "      <th></th>\n",
       "      <th>datetime</th>\n",
       "      <th>city</th>\n",
       "      <th>state</th>\n",
       "      <th>country</th>\n",
       "      <th>shape</th>\n",
       "      <th>date posted</th>\n",
       "      <th>month</th>\n",
       "      <th>season</th>\n",
       "      <th>part of day</th>\n",
       "    </tr>\n",
       "  </thead>\n",
       "  <tbody>\n",
       "    <tr>\n",
       "      <th>0</th>\n",
       "      <td>372</td>\n",
       "      <td>2140</td>\n",
       "      <td>45</td>\n",
       "      <td>1</td>\n",
       "      <td>21</td>\n",
       "      <td>162</td>\n",
       "      <td>1</td>\n",
       "      <td>4</td>\n",
       "      <td>2</td>\n",
       "    </tr>\n",
       "    <tr>\n",
       "      <th>1</th>\n",
       "      <td>373</td>\n",
       "      <td>9525</td>\n",
       "      <td>5</td>\n",
       "      <td>1</td>\n",
       "      <td>13</td>\n",
       "      <td>173</td>\n",
       "      <td>1</td>\n",
       "      <td>4</td>\n",
       "      <td>2</td>\n",
       "    </tr>\n",
       "    <tr>\n",
       "      <th>2</th>\n",
       "      <td>374</td>\n",
       "      <td>2942</td>\n",
       "      <td>5</td>\n",
       "      <td>1</td>\n",
       "      <td>15</td>\n",
       "      <td>190</td>\n",
       "      <td>1</td>\n",
       "      <td>4</td>\n",
       "      <td>2</td>\n",
       "    </tr>\n",
       "    <tr>\n",
       "      <th>3</th>\n",
       "      <td>375</td>\n",
       "      <td>3193</td>\n",
       "      <td>31</td>\n",
       "      <td>1</td>\n",
       "      <td>13</td>\n",
       "      <td>105</td>\n",
       "      <td>1</td>\n",
       "      <td>4</td>\n",
       "      <td>4</td>\n",
       "    </tr>\n",
       "    <tr>\n",
       "      <th>4</th>\n",
       "      <td>376</td>\n",
       "      <td>3801</td>\n",
       "      <td>5</td>\n",
       "      <td>1</td>\n",
       "      <td>29</td>\n",
       "      <td>105</td>\n",
       "      <td>1</td>\n",
       "      <td>4</td>\n",
       "      <td>2</td>\n",
       "    </tr>\n",
       "  </tbody>\n",
       "</table>\n",
       "</div>"
      ],
      "text/plain": [
       "   datetime  city  state  country  shape  date posted  month  season  \\\n",
       "0       372  2140     45        1     21          162      1       4   \n",
       "1       373  9525      5        1     13          173      1       4   \n",
       "2       374  2942      5        1     15          190      1       4   \n",
       "3       375  3193     31        1     13          105      1       4   \n",
       "4       376  3801      5        1     29          105      1       4   \n",
       "\n",
       "   part of day  \n",
       "0            2  \n",
       "1            2  \n",
       "2            2  \n",
       "3            4  \n",
       "4            2  "
      ]
     },
     "execution_count": 7,
     "metadata": {},
     "output_type": "execute_result"
    }
   ],
   "source": [
    "from sklearn.preprocessing import LabelEncoder\n",
    "\n",
    "data = data.apply(LabelEncoder().fit_transform)\n",
    "data.head()"
   ]
  },
  {
   "cell_type": "code",
   "execution_count": 8,
   "metadata": {
    "colab": {
     "base_uri": "https://localhost:8080/",
     "height": 34
    },
    "colab_type": "code",
    "id": "Ju__QdPEkVzm",
    "outputId": "208faa5a-fad6-4d21-fcae-0947eeb78649"
   },
   "outputs": [
    {
     "name": "stdout",
     "output_type": "stream",
     "text": [
      "(65033, 9) (65033,)\n"
     ]
    }
   ],
   "source": [
    "# Assign X (data) and y (target)\n",
    "X = data\n",
    "y = df1[\"outcome\"]\n",
    "print(X.shape, y.shape)"
   ]
  },
  {
   "cell_type": "code",
   "execution_count": 9,
   "metadata": {
    "colab": {},
    "colab_type": "code",
    "id": "ubZRY6iJkhDn"
   },
   "outputs": [],
   "source": [
    "from sklearn.model_selection import train_test_split\n",
    "from sklearn.preprocessing import LabelEncoder, MinMaxScaler\n",
    "from tensorflow.keras.utils import to_categorical"
   ]
  },
  {
   "cell_type": "code",
   "execution_count": 10,
   "metadata": {
    "colab": {},
    "colab_type": "code",
    "id": "Aox94qmRkkpk"
   },
   "outputs": [],
   "source": [
    "X_train, X_test, y_train, y_test = train_test_split(\n",
    "    X, y, random_state=1, stratify=y)"
   ]
  },
  {
   "cell_type": "code",
   "execution_count": 11,
   "metadata": {
    "colab": {},
    "colab_type": "code",
    "id": "XAYKKHErknXA"
   },
   "outputs": [],
   "source": [
    "X_scaler = MinMaxScaler().fit(X_train)\n",
    "X_train_scaled = X_scaler.transform(X_train)\n",
    "X_test_scaled = X_scaler.transform(X_test)"
   ]
  },
  {
   "cell_type": "code",
   "execution_count": 12,
   "metadata": {
    "colab": {},
    "colab_type": "code",
    "id": "OLEbZVFakpdK"
   },
   "outputs": [],
   "source": [
    "# Step 1: Label-encode data set\n",
    "label_encoder = LabelEncoder()\n",
    "label_encoder.fit(y_train)\n",
    "encoded_y_train = label_encoder.transform(y_train)\n",
    "encoded_y_test = label_encoder.transform(y_test)"
   ]
  },
  {
   "cell_type": "code",
   "execution_count": 13,
   "metadata": {
    "colab": {},
    "colab_type": "code",
    "id": "wfm7gV0NkrdT"
   },
   "outputs": [],
   "source": [
    "# Step 2: Convert encoded labels to one-hot-encoding\n",
    "y_train_categorical = to_categorical(encoded_y_train)\n",
    "y_test_categorical = to_categorical(encoded_y_test)"
   ]
  },
  {
   "cell_type": "code",
   "execution_count": 14,
   "metadata": {
    "colab": {},
    "colab_type": "code",
    "id": "CLuhjdYtkuRT"
   },
   "outputs": [],
   "source": [
    "from tensorflow.keras.models import Sequential\n",
    "from tensorflow.keras.layers import Dense"
   ]
  },
  {
   "cell_type": "code",
   "execution_count": 15,
   "metadata": {
    "colab": {},
    "colab_type": "code",
    "id": "y2jW1TWvkwC6"
   },
   "outputs": [
    {
     "name": "stdout",
     "output_type": "stream",
     "text": [
      "WARNING:tensorflow:From /Library/Frameworks/Python.framework/Versions/3.7/lib/python3.7/site-packages/tensorflow/python/ops/resource_variable_ops.py:435: colocate_with (from tensorflow.python.framework.ops) is deprecated and will be removed in a future version.\n",
      "Instructions for updating:\n",
      "Colocations handled automatically by placer.\n"
     ]
    }
   ],
   "source": [
    "# Create model and add layers\n",
    "model = Sequential()\n",
    "model.add(Dense(units=100, activation='relu', input_dim=9))\n",
    "model.add(Dense(units=100, activation='relu'))\n",
    "model.add(Dense(units=2, activation='softmax'))"
   ]
  },
  {
   "cell_type": "code",
   "execution_count": 16,
   "metadata": {
    "colab": {},
    "colab_type": "code",
    "id": "S8hTsBOjkzDi"
   },
   "outputs": [],
   "source": [
    "# Compile and fit the model\n",
    "model.compile(optimizer='adam',\n",
    "              loss='categorical_crossentropy',\n",
    "              metrics=['accuracy'])"
   ]
  },
  {
   "cell_type": "code",
   "execution_count": 17,
   "metadata": {
    "colab": {
     "base_uri": "https://localhost:8080/",
     "height": 255
    },
    "colab_type": "code",
    "id": "pjSqjrWok1qm",
    "outputId": "7c75c28a-9626-485d-dddf-2264aca70a52"
   },
   "outputs": [
    {
     "name": "stdout",
     "output_type": "stream",
     "text": [
      "_________________________________________________________________\n",
      "Layer (type)                 Output Shape              Param #   \n",
      "=================================================================\n",
      "dense (Dense)                (None, 100)               1000      \n",
      "_________________________________________________________________\n",
      "dense_1 (Dense)              (None, 100)               10100     \n",
      "_________________________________________________________________\n",
      "dense_2 (Dense)              (None, 2)                 202       \n",
      "=================================================================\n",
      "Total params: 11,302\n",
      "Trainable params: 11,302\n",
      "Non-trainable params: 0\n",
      "_________________________________________________________________\n"
     ]
    }
   ],
   "source": [
    "model.summary()"
   ]
  },
  {
   "cell_type": "code",
   "execution_count": 18,
   "metadata": {
    "colab": {
     "base_uri": "https://localhost:8080/",
     "height": 2074
    },
    "colab_type": "code",
    "id": "dznYYNbBk4yy",
    "outputId": "28c399eb-ef4d-42f4-d571-df0ce90cf350"
   },
   "outputs": [
    {
     "name": "stdout",
     "output_type": "stream",
     "text": [
      "WARNING:tensorflow:From /Library/Frameworks/Python.framework/Versions/3.7/lib/python3.7/site-packages/tensorflow/python/ops/math_ops.py:3066: to_int32 (from tensorflow.python.ops.math_ops) is deprecated and will be removed in a future version.\n",
      "Instructions for updating:\n",
      "Use tf.cast instead.\n",
      "Epoch 1/60\n",
      " - 3s - loss: 0.3659 - acc: 0.8536\n",
      "Epoch 2/60\n",
      " - 3s - loss: 0.3158 - acc: 0.8636\n",
      "Epoch 3/60\n",
      " - 2s - loss: 0.2940 - acc: 0.8611\n",
      "Epoch 4/60\n",
      " - 2s - loss: 0.2414 - acc: 0.8699\n",
      "Epoch 5/60\n",
      " - 2s - loss: 0.1514 - acc: 0.9619\n",
      "Epoch 6/60\n",
      " - 3s - loss: 0.0813 - acc: 0.9962\n",
      "Epoch 7/60\n",
      " - 2s - loss: 0.0359 - acc: 0.9998\n",
      "Epoch 8/60\n",
      " - 2s - loss: 0.0153 - acc: 1.0000\n",
      "Epoch 9/60\n",
      " - 2s - loss: 0.0059 - acc: 1.0000\n",
      "Epoch 10/60\n",
      " - 3s - loss: 0.0024 - acc: 1.0000\n",
      "Epoch 11/60\n",
      " - 3s - loss: 0.0103 - acc: 0.9977\n",
      "Epoch 12/60\n",
      " - 3s - loss: 9.1201e-04 - acc: 1.0000\n",
      "Epoch 13/60\n",
      " - 3s - loss: 7.6150e-04 - acc: 1.0000\n",
      "Epoch 14/60\n",
      " - 3s - loss: 6.1556e-04 - acc: 1.0000\n",
      "Epoch 15/60\n",
      " - 3s - loss: 4.1756e-04 - acc: 1.0000\n",
      "Epoch 16/60\n",
      " - 3s - loss: 2.4302e-04 - acc: 1.0000\n",
      "Epoch 17/60\n",
      " - 3s - loss: 1.2399e-04 - acc: 1.0000\n",
      "Epoch 18/60\n",
      " - 3s - loss: 0.0525 - acc: 0.9959\n",
      "Epoch 19/60\n",
      " - 3s - loss: 1.1127 - acc: 0.9310\n",
      "Epoch 20/60\n",
      " - 3s - loss: 1.1127 - acc: 0.9310\n",
      "Epoch 21/60\n",
      " - 3s - loss: 1.1127 - acc: 0.9310\n",
      "Epoch 22/60\n",
      " - 3s - loss: 1.1127 - acc: 0.9310\n",
      "Epoch 23/60\n",
      " - 3s - loss: 1.1127 - acc: 0.9310\n",
      "Epoch 24/60\n",
      " - 3s - loss: 1.1127 - acc: 0.9310\n",
      "Epoch 25/60\n",
      " - 4s - loss: 1.1127 - acc: 0.9310\n",
      "Epoch 26/60\n",
      " - 4s - loss: 1.1127 - acc: 0.9310\n",
      "Epoch 27/60\n",
      " - 3s - loss: 1.1127 - acc: 0.9310\n",
      "Epoch 28/60\n",
      " - 3s - loss: 1.1127 - acc: 0.9310\n",
      "Epoch 29/60\n",
      " - 3s - loss: 1.1127 - acc: 0.9310\n",
      "Epoch 30/60\n",
      " - 3s - loss: 1.1127 - acc: 0.9310\n",
      "Epoch 31/60\n",
      " - 3s - loss: 1.1127 - acc: 0.9310\n",
      "Epoch 32/60\n",
      " - 3s - loss: 1.1127 - acc: 0.9310\n",
      "Epoch 33/60\n",
      " - 3s - loss: 1.1127 - acc: 0.9310\n",
      "Epoch 34/60\n",
      " - 3s - loss: 1.1127 - acc: 0.9310\n",
      "Epoch 35/60\n",
      " - 3s - loss: 1.1596 - acc: 0.9222\n",
      "Epoch 36/60\n",
      " - 3s - loss: 1.1188 - acc: 0.9310\n",
      "Epoch 37/60\n",
      " - 3s - loss: 1.1149 - acc: 0.9310\n",
      "Epoch 38/60\n",
      " - 3s - loss: 1.1137 - acc: 0.9310\n",
      "Epoch 39/60\n",
      " - 3s - loss: 1.1131 - acc: 0.9310\n",
      "Epoch 40/60\n",
      " - 3s - loss: 1.1129 - acc: 0.9310\n",
      "Epoch 41/60\n",
      " - 3s - loss: 1.1128 - acc: 0.9310\n",
      "Epoch 42/60\n",
      " - 3s - loss: 1.1142 - acc: 0.9305\n",
      "Epoch 43/60\n",
      " - 3s - loss: 1.1127 - acc: 0.9310\n",
      "Epoch 44/60\n",
      " - 2s - loss: 1.1127 - acc: 0.9310\n",
      "Epoch 45/60\n",
      " - 2s - loss: 1.1127 - acc: 0.9310\n",
      "Epoch 46/60\n",
      " - 2s - loss: 1.1127 - acc: 0.9310\n",
      "Epoch 47/60\n",
      " - 2s - loss: 1.1127 - acc: 0.9310\n",
      "Epoch 48/60\n",
      " - 2s - loss: 1.1127 - acc: 0.9310\n",
      "Epoch 49/60\n",
      " - 2s - loss: 1.1127 - acc: 0.9310\n",
      "Epoch 50/60\n",
      " - 2s - loss: 1.1127 - acc: 0.9310\n",
      "Epoch 51/60\n",
      " - 3s - loss: 1.2427 - acc: 0.9217\n",
      "Epoch 52/60\n",
      " - 3s - loss: 2.2392 - acc: 0.8611\n",
      "Epoch 53/60\n",
      " - 2s - loss: 2.2392 - acc: 0.8611\n",
      "Epoch 54/60\n",
      " - 2s - loss: 2.2392 - acc: 0.8611\n",
      "Epoch 55/60\n",
      " - 2s - loss: 2.2392 - acc: 0.8611\n",
      "Epoch 56/60\n",
      " - 2s - loss: 2.2392 - acc: 0.8611\n",
      "Epoch 57/60\n",
      " - 2s - loss: 2.2392 - acc: 0.8611\n",
      "Epoch 58/60\n",
      " - 2s - loss: 2.2392 - acc: 0.8611\n",
      "Epoch 59/60\n",
      " - 2s - loss: 2.2392 - acc: 0.8611\n",
      "Epoch 60/60\n",
      " - 3s - loss: 2.2392 - acc: 0.8611\n"
     ]
    },
    {
     "data": {
      "text/plain": [
       "<tensorflow.python.keras.callbacks.History at 0x12ed66dd8>"
      ]
     },
     "execution_count": 18,
     "metadata": {},
     "output_type": "execute_result"
    }
   ],
   "source": [
    "model.fit(\n",
    "    X_train_scaled,\n",
    "    y_train_categorical,\n",
    "    epochs=60,\n",
    "    shuffle=True,\n",
    "    verbose=2\n",
    ")"
   ]
  },
  {
   "cell_type": "code",
   "execution_count": 19,
   "metadata": {
    "colab": {
     "base_uri": "https://localhost:8080/",
     "height": 51
    },
    "colab_type": "code",
    "id": "-szEevtQk_LT",
    "outputId": "ab68a872-eaef-4bbd-b7cc-eab56f718533"
   },
   "outputs": [
    {
     "name": "stdout",
     "output_type": "stream",
     "text": [
      " - 0s - loss: 2.2186 - acc: 0.8624\n",
      "Normal Neural Network - Loss: 2.2186157462106975, Accuracy: 0.8623531460762024\n"
     ]
    }
   ],
   "source": [
    "model_loss, model_accuracy = model.evaluate(\n",
    "    X_test_scaled, y_test_categorical, verbose=2)\n",
    "print(\n",
    "    f\"Normal Neural Network - Loss: {model_loss}, Accuracy: {model_accuracy}\")"
   ]
  },
  {
   "cell_type": "code",
   "execution_count": 20,
   "metadata": {
    "colab": {},
    "colab_type": "code",
    "id": "ob_FEurKlBjz"
   },
   "outputs": [],
   "source": [
    "encoded_predictions = model.predict_classes(X_test_scaled[:20])\n",
    "prediction_labels = label_encoder.inverse_transform(encoded_predictions)"
   ]
  },
  {
   "cell_type": "code",
   "execution_count": 21,
   "metadata": {
    "colab": {
     "base_uri": "https://localhost:8080/",
     "height": 68
    },
    "colab_type": "code",
    "id": "LHfHTFzKlDvP",
    "outputId": "fea34e47-1276-426f-fd71-3008e5c96a5a"
   },
   "outputs": [
    {
     "name": "stdout",
     "output_type": "stream",
     "text": [
      "Predicted classes: ['1' '1' '1' '1' '1' '1' '1' '1' '1' '1' '1' '1' '1' '1' '1' '1' '1' '1'\n",
      " '1' '1']\n",
      "Actual Labels: ['0', '1', '0', '1', '1', '0', '1', '1', '1', '1', '1', '1', '1', '1', '1', '1', '1', '1', '0', '1']\n"
     ]
    }
   ],
   "source": [
    "print(f\"Predicted classes: {prediction_labels}\")\n",
    "print(f\"Actual Labels: {list(y_test[:20])}\")"
   ]
  }
 ],
 "metadata": {
  "colab": {
   "collapsed_sections": [],
   "name": "DeepLearningModel.ipynb",
   "provenance": [],
   "version": "0.3.2"
  },
  "kernelspec": {
   "display_name": "Python 3",
   "language": "python",
   "name": "python3"
  },
  "language_info": {
   "codemirror_mode": {
    "name": "ipython",
    "version": 3
   },
   "file_extension": ".py",
   "mimetype": "text/x-python",
   "name": "python",
   "nbconvert_exporter": "python",
   "pygments_lexer": "ipython3",
   "version": "3.7.3"
  }
 },
 "nbformat": 4,
 "nbformat_minor": 1
}
