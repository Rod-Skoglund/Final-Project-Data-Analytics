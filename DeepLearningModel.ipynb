{
  "nbformat": 4,
  "nbformat_minor": 0,
  "metadata": {
    "colab": {
      "name": "DeepLearningModel.ipynb",
      "version": "0.3.2",
      "provenance": [],
      "collapsed_sections": []
    },
    "kernelspec": {
      "name": "python3",
      "display_name": "Python 3"
    }
  },
  "cells": [
    {
      "cell_type": "code",
      "metadata": {
        "id": "_i9gvPDAjlHK",
        "colab_type": "code",
        "colab": {}
      },
      "source": [
        "# Set the seed value for the notebook so the results are reproducible\n",
        "from numpy.random import seed\n",
        "seed(1)"
      ],
      "execution_count": 0,
      "outputs": []
    },
    {
      "cell_type": "code",
      "metadata": {
        "id": "Q9LrhW8qjt3j",
        "colab_type": "code",
        "colab": {}
      },
      "source": [
        "# Dependencies\n",
        "import numpy as np\n",
        "import pandas as pd\n",
        "import ssl\n",
        "ssl._create_default_https_context = ssl._create_unverified_context"
      ],
      "execution_count": 0,
      "outputs": []
    },
    {
      "cell_type": "code",
      "metadata": {
        "id": "UMLrO17Ejxtz",
        "colab_type": "code",
        "colab": {
          "base_uri": "https://localhost:8080/",
          "height": 34
        },
        "outputId": "3466da12-dc13-4a4f-b789-42cbbda29f57"
      },
      "source": [
        "import tensorflow\n",
        "tensorflow.keras.__version__"
      ],
      "execution_count": 246,
      "outputs": [
        {
          "output_type": "execute_result",
          "data": {
            "text/plain": [
              "'2.2.4-tf'"
            ]
          },
          "metadata": {
            "tags": []
          },
          "execution_count": 246
        }
      ]
    },
    {
      "cell_type": "code",
      "metadata": {
        "id": "_u3Oeg0Dj6Kh",
        "colab_type": "code",
        "colab": {
          "base_uri": "https://localhost:8080/",
          "height": 391
        },
        "outputId": "e3773fe7-db1a-4e56-d1b8-3790da4f2fd3"
      },
      "source": [
        "url = 'https://raw.githubusercontent.com/lucyhohler/Final-Project---Data-Analytics/master/Resources/ufo-sightings.csv'\n",
        "df = pd.read_csv(url, sep=\",\", na_filter=False)\n",
        "df.head()"
      ],
      "execution_count": 247,
      "outputs": [
        {
          "output_type": "execute_result",
          "data": {
            "text/html": [
              "<div>\n",
              "<style scoped>\n",
              "    .dataframe tbody tr th:only-of-type {\n",
              "        vertical-align: middle;\n",
              "    }\n",
              "\n",
              "    .dataframe tbody tr th {\n",
              "        vertical-align: top;\n",
              "    }\n",
              "\n",
              "    .dataframe thead th {\n",
              "        text-align: right;\n",
              "    }\n",
              "</style>\n",
              "<table border=\"1\" class=\"dataframe\">\n",
              "  <thead>\n",
              "    <tr style=\"text-align: right;\">\n",
              "      <th></th>\n",
              "      <th>datetime</th>\n",
              "      <th>city</th>\n",
              "      <th>state</th>\n",
              "      <th>country</th>\n",
              "      <th>shape</th>\n",
              "      <th>duration (seconds)</th>\n",
              "      <th>duration (hours/min)</th>\n",
              "      <th>comments</th>\n",
              "      <th>date posted</th>\n",
              "      <th>latitude</th>\n",
              "      <th>longitude</th>\n",
              "      <th>month</th>\n",
              "      <th>season</th>\n",
              "      <th>time of day</th>\n",
              "      <th>part of day</th>\n",
              "    </tr>\n",
              "  </thead>\n",
              "  <tbody>\n",
              "    <tr>\n",
              "      <th>0</th>\n",
              "      <td>1/10/1947 20:00</td>\n",
              "      <td>conroe</td>\n",
              "      <td>tx</td>\n",
              "      <td>us</td>\n",
              "      <td>other</td>\n",
              "      <td>4</td>\n",
              "      <td>3 to4 sec.</td>\n",
              "      <td>The date was early 1947 before Arnold&amp;#39s &amp;qu...</td>\n",
              "      <td>4/16/2005</td>\n",
              "      <td>30.311667</td>\n",
              "      <td>-95.455833</td>\n",
              "      <td>1</td>\n",
              "      <td>Winter</td>\n",
              "      <td>8:00 PM</td>\n",
              "      <td>EVENING</td>\n",
              "    </tr>\n",
              "    <tr>\n",
              "      <th>1</th>\n",
              "      <td>1/10/1959 18:30</td>\n",
              "      <td>south san francisco</td>\n",
              "      <td>ca</td>\n",
              "      <td>us</td>\n",
              "      <td>disk</td>\n",
              "      <td>120</td>\n",
              "      <td>2 minutes</td>\n",
              "      <td>Its was approximately 6:30pm&amp;#44 I was sitting...</td>\n",
              "      <td>4/27/2004</td>\n",
              "      <td>37.654722</td>\n",
              "      <td>-122.406667</td>\n",
              "      <td>1</td>\n",
              "      <td>Winter</td>\n",
              "      <td>6:30 PM</td>\n",
              "      <td>EVENING</td>\n",
              "    </tr>\n",
              "    <tr>\n",
              "      <th>2</th>\n",
              "      <td>1/10/1964 20:00</td>\n",
              "      <td>el cerrito (over old berkeley dump)</td>\n",
              "      <td>ca</td>\n",
              "      <td>us</td>\n",
              "      <td>fireball</td>\n",
              "      <td>120</td>\n",
              "      <td>2 minutes</td>\n",
              "      <td>bal of fire in the sky no reported air crashes...</td>\n",
              "      <td>5/15/2006</td>\n",
              "      <td>37.915833</td>\n",
              "      <td>-122.310556</td>\n",
              "      <td>1</td>\n",
              "      <td>Winter</td>\n",
              "      <td>8:00 PM</td>\n",
              "      <td>EVENING</td>\n",
              "    </tr>\n",
              "    <tr>\n",
              "      <th>3</th>\n",
              "      <td>1/10/1980 0:00</td>\n",
              "      <td>exeter</td>\n",
              "      <td>nh</td>\n",
              "      <td>us</td>\n",
              "      <td>disk</td>\n",
              "      <td>7800</td>\n",
              "      <td>10min to 2hrs</td>\n",
              "      <td>saw what appeared as very bright star&amp;#44 some...</td>\n",
              "      <td>2/18/2001</td>\n",
              "      <td>42.981389</td>\n",
              "      <td>-70.948333</td>\n",
              "      <td>1</td>\n",
              "      <td>Winter</td>\n",
              "      <td>12:00 AM</td>\n",
              "      <td>NIGHT</td>\n",
              "    </tr>\n",
              "    <tr>\n",
              "      <th>4</th>\n",
              "      <td>1/10/1981 20:30</td>\n",
              "      <td>glendora</td>\n",
              "      <td>ca</td>\n",
              "      <td>us</td>\n",
              "      <td>unknown</td>\n",
              "      <td>60</td>\n",
              "      <td>1 minute</td>\n",
              "      <td>On a very foggy night in 1981 I was illuminate...</td>\n",
              "      <td>2/18/2001</td>\n",
              "      <td>34.136111</td>\n",
              "      <td>-117.864444</td>\n",
              "      <td>1</td>\n",
              "      <td>Winter</td>\n",
              "      <td>8:30 PM</td>\n",
              "      <td>EVENING</td>\n",
              "    </tr>\n",
              "  </tbody>\n",
              "</table>\n",
              "</div>"
            ],
            "text/plain": [
              "          datetime                                 city  ... time of day part of day\n",
              "0  1/10/1947 20:00                               conroe  ...     8:00 PM     EVENING\n",
              "1  1/10/1959 18:30                  south san francisco  ...     6:30 PM     EVENING\n",
              "2  1/10/1964 20:00  el cerrito (over old berkeley dump)  ...     8:00 PM     EVENING\n",
              "3   1/10/1980 0:00                               exeter  ...    12:00 AM       NIGHT\n",
              "4  1/10/1981 20:30                             glendora  ...     8:30 PM     EVENING\n",
              "\n",
              "[5 rows x 15 columns]"
            ]
          },
          "metadata": {
            "tags": []
          },
          "execution_count": 247
        }
      ]
    },
    {
      "cell_type": "code",
      "metadata": {
        "id": "24lKp2oKkO_x",
        "colab_type": "code",
        "colab": {
          "base_uri": "https://localhost:8080/",
          "height": 204
        },
        "outputId": "72acb434-dc91-46e7-d42d-6b3ccab96b51"
      },
      "source": [
        "data = df.drop(columns=[\"duration (seconds)\", \"duration (hours/min)\", \"comments\", \"latitude\", \"longitude \", \"time of day\"])\n",
        "df1 = df.drop(columns=[\"datetime\", \"city\", \"country\", \"duration (seconds)\", \"duration (hours/min)\", \"comments\", \"date posted\", \"latitude\", \"longitude \", \"month\", \"time of day\"])\n",
        "data.head()"
      ],
      "execution_count": 248,
      "outputs": [
        {
          "output_type": "execute_result",
          "data": {
            "text/html": [
              "<div>\n",
              "<style scoped>\n",
              "    .dataframe tbody tr th:only-of-type {\n",
              "        vertical-align: middle;\n",
              "    }\n",
              "\n",
              "    .dataframe tbody tr th {\n",
              "        vertical-align: top;\n",
              "    }\n",
              "\n",
              "    .dataframe thead th {\n",
              "        text-align: right;\n",
              "    }\n",
              "</style>\n",
              "<table border=\"1\" class=\"dataframe\">\n",
              "  <thead>\n",
              "    <tr style=\"text-align: right;\">\n",
              "      <th></th>\n",
              "      <th>datetime</th>\n",
              "      <th>city</th>\n",
              "      <th>state</th>\n",
              "      <th>country</th>\n",
              "      <th>shape</th>\n",
              "      <th>date posted</th>\n",
              "      <th>month</th>\n",
              "      <th>season</th>\n",
              "      <th>part of day</th>\n",
              "    </tr>\n",
              "  </thead>\n",
              "  <tbody>\n",
              "    <tr>\n",
              "      <th>0</th>\n",
              "      <td>1/10/1947 20:00</td>\n",
              "      <td>conroe</td>\n",
              "      <td>tx</td>\n",
              "      <td>us</td>\n",
              "      <td>other</td>\n",
              "      <td>4/16/2005</td>\n",
              "      <td>1</td>\n",
              "      <td>Winter</td>\n",
              "      <td>EVENING</td>\n",
              "    </tr>\n",
              "    <tr>\n",
              "      <th>1</th>\n",
              "      <td>1/10/1959 18:30</td>\n",
              "      <td>south san francisco</td>\n",
              "      <td>ca</td>\n",
              "      <td>us</td>\n",
              "      <td>disk</td>\n",
              "      <td>4/27/2004</td>\n",
              "      <td>1</td>\n",
              "      <td>Winter</td>\n",
              "      <td>EVENING</td>\n",
              "    </tr>\n",
              "    <tr>\n",
              "      <th>2</th>\n",
              "      <td>1/10/1964 20:00</td>\n",
              "      <td>el cerrito (over old berkeley dump)</td>\n",
              "      <td>ca</td>\n",
              "      <td>us</td>\n",
              "      <td>fireball</td>\n",
              "      <td>5/15/2006</td>\n",
              "      <td>1</td>\n",
              "      <td>Winter</td>\n",
              "      <td>EVENING</td>\n",
              "    </tr>\n",
              "    <tr>\n",
              "      <th>3</th>\n",
              "      <td>1/10/1980 0:00</td>\n",
              "      <td>exeter</td>\n",
              "      <td>nh</td>\n",
              "      <td>us</td>\n",
              "      <td>disk</td>\n",
              "      <td>2/18/2001</td>\n",
              "      <td>1</td>\n",
              "      <td>Winter</td>\n",
              "      <td>NIGHT</td>\n",
              "    </tr>\n",
              "    <tr>\n",
              "      <th>4</th>\n",
              "      <td>1/10/1981 20:30</td>\n",
              "      <td>glendora</td>\n",
              "      <td>ca</td>\n",
              "      <td>us</td>\n",
              "      <td>unknown</td>\n",
              "      <td>2/18/2001</td>\n",
              "      <td>1</td>\n",
              "      <td>Winter</td>\n",
              "      <td>EVENING</td>\n",
              "    </tr>\n",
              "  </tbody>\n",
              "</table>\n",
              "</div>"
            ],
            "text/plain": [
              "          datetime                                 city  ...  season part of day\n",
              "0  1/10/1947 20:00                               conroe  ...  Winter     EVENING\n",
              "1  1/10/1959 18:30                  south san francisco  ...  Winter     EVENING\n",
              "2  1/10/1964 20:00  el cerrito (over old berkeley dump)  ...  Winter     EVENING\n",
              "3   1/10/1980 0:00                               exeter  ...  Winter       NIGHT\n",
              "4  1/10/1981 20:30                             glendora  ...  Winter     EVENING\n",
              "\n",
              "[5 rows x 9 columns]"
            ]
          },
          "metadata": {
            "tags": []
          },
          "execution_count": 248
        }
      ]
    },
    {
      "cell_type": "code",
      "metadata": {
        "id": "P0eGSKE6Opwi",
        "colab_type": "code",
        "colab": {
          "base_uri": "https://localhost:8080/",
          "height": 204
        },
        "outputId": "576eaa05-e300-4a34-870a-395353dda81a"
      },
      "source": [
        "df1['outcome'] = '1'\n",
        "\n",
        "import math\n",
        "\n",
        "for index, row in df1.iterrows():\n",
        "    outcome = '1' \n",
        "    #print(row['shape'])\n",
        "    if not row['shape'] or row['shape'] == 'other' or row['shape'] == 'unknown':\n",
        "        outcome = '0'\n",
        "    row['outcome'] = outcome\n",
        "\n",
        "df1.head()"
      ],
      "execution_count": 249,
      "outputs": [
        {
          "output_type": "execute_result",
          "data": {
            "text/html": [
              "<div>\n",
              "<style scoped>\n",
              "    .dataframe tbody tr th:only-of-type {\n",
              "        vertical-align: middle;\n",
              "    }\n",
              "\n",
              "    .dataframe tbody tr th {\n",
              "        vertical-align: top;\n",
              "    }\n",
              "\n",
              "    .dataframe thead th {\n",
              "        text-align: right;\n",
              "    }\n",
              "</style>\n",
              "<table border=\"1\" class=\"dataframe\">\n",
              "  <thead>\n",
              "    <tr style=\"text-align: right;\">\n",
              "      <th></th>\n",
              "      <th>state</th>\n",
              "      <th>shape</th>\n",
              "      <th>season</th>\n",
              "      <th>part of day</th>\n",
              "      <th>outcome</th>\n",
              "    </tr>\n",
              "  </thead>\n",
              "  <tbody>\n",
              "    <tr>\n",
              "      <th>0</th>\n",
              "      <td>tx</td>\n",
              "      <td>other</td>\n",
              "      <td>Winter</td>\n",
              "      <td>EVENING</td>\n",
              "      <td>0</td>\n",
              "    </tr>\n",
              "    <tr>\n",
              "      <th>1</th>\n",
              "      <td>ca</td>\n",
              "      <td>disk</td>\n",
              "      <td>Winter</td>\n",
              "      <td>EVENING</td>\n",
              "      <td>1</td>\n",
              "    </tr>\n",
              "    <tr>\n",
              "      <th>2</th>\n",
              "      <td>ca</td>\n",
              "      <td>fireball</td>\n",
              "      <td>Winter</td>\n",
              "      <td>EVENING</td>\n",
              "      <td>1</td>\n",
              "    </tr>\n",
              "    <tr>\n",
              "      <th>3</th>\n",
              "      <td>nh</td>\n",
              "      <td>disk</td>\n",
              "      <td>Winter</td>\n",
              "      <td>NIGHT</td>\n",
              "      <td>1</td>\n",
              "    </tr>\n",
              "    <tr>\n",
              "      <th>4</th>\n",
              "      <td>ca</td>\n",
              "      <td>unknown</td>\n",
              "      <td>Winter</td>\n",
              "      <td>EVENING</td>\n",
              "      <td>0</td>\n",
              "    </tr>\n",
              "  </tbody>\n",
              "</table>\n",
              "</div>"
            ],
            "text/plain": [
              "  state     shape  season part of day outcome\n",
              "0    tx     other  Winter     EVENING       0\n",
              "1    ca      disk  Winter     EVENING       1\n",
              "2    ca  fireball  Winter     EVENING       1\n",
              "3    nh      disk  Winter       NIGHT       1\n",
              "4    ca   unknown  Winter     EVENING       0"
            ]
          },
          "metadata": {
            "tags": []
          },
          "execution_count": 249
        }
      ]
    },
    {
      "cell_type": "code",
      "metadata": {
        "id": "jqn8Lah1kQ2h",
        "colab_type": "code",
        "colab": {
          "base_uri": "https://localhost:8080/",
          "height": 204
        },
        "outputId": "89db8826-9c50-478e-968e-7b7c2864c709"
      },
      "source": [
        "from sklearn.preprocessing import LabelEncoder\n",
        "\n",
        "data = data.apply(LabelEncoder().fit_transform)\n",
        "data.head()"
      ],
      "execution_count": 250,
      "outputs": [
        {
          "output_type": "execute_result",
          "data": {
            "text/html": [
              "<div>\n",
              "<style scoped>\n",
              "    .dataframe tbody tr th:only-of-type {\n",
              "        vertical-align: middle;\n",
              "    }\n",
              "\n",
              "    .dataframe tbody tr th {\n",
              "        vertical-align: top;\n",
              "    }\n",
              "\n",
              "    .dataframe thead th {\n",
              "        text-align: right;\n",
              "    }\n",
              "</style>\n",
              "<table border=\"1\" class=\"dataframe\">\n",
              "  <thead>\n",
              "    <tr style=\"text-align: right;\">\n",
              "      <th></th>\n",
              "      <th>datetime</th>\n",
              "      <th>city</th>\n",
              "      <th>state</th>\n",
              "      <th>country</th>\n",
              "      <th>shape</th>\n",
              "      <th>date posted</th>\n",
              "      <th>month</th>\n",
              "      <th>season</th>\n",
              "      <th>part of day</th>\n",
              "    </tr>\n",
              "  </thead>\n",
              "  <tbody>\n",
              "    <tr>\n",
              "      <th>0</th>\n",
              "      <td>371</td>\n",
              "      <td>2139</td>\n",
              "      <td>44</td>\n",
              "      <td>0</td>\n",
              "      <td>20</td>\n",
              "      <td>161</td>\n",
              "      <td>0</td>\n",
              "      <td>3</td>\n",
              "      <td>1</td>\n",
              "    </tr>\n",
              "    <tr>\n",
              "      <th>1</th>\n",
              "      <td>372</td>\n",
              "      <td>9524</td>\n",
              "      <td>4</td>\n",
              "      <td>0</td>\n",
              "      <td>12</td>\n",
              "      <td>172</td>\n",
              "      <td>0</td>\n",
              "      <td>3</td>\n",
              "      <td>1</td>\n",
              "    </tr>\n",
              "    <tr>\n",
              "      <th>2</th>\n",
              "      <td>373</td>\n",
              "      <td>2941</td>\n",
              "      <td>4</td>\n",
              "      <td>0</td>\n",
              "      <td>14</td>\n",
              "      <td>189</td>\n",
              "      <td>0</td>\n",
              "      <td>3</td>\n",
              "      <td>1</td>\n",
              "    </tr>\n",
              "    <tr>\n",
              "      <th>3</th>\n",
              "      <td>374</td>\n",
              "      <td>3192</td>\n",
              "      <td>30</td>\n",
              "      <td>0</td>\n",
              "      <td>12</td>\n",
              "      <td>104</td>\n",
              "      <td>0</td>\n",
              "      <td>3</td>\n",
              "      <td>3</td>\n",
              "    </tr>\n",
              "    <tr>\n",
              "      <th>4</th>\n",
              "      <td>375</td>\n",
              "      <td>3800</td>\n",
              "      <td>4</td>\n",
              "      <td>0</td>\n",
              "      <td>28</td>\n",
              "      <td>104</td>\n",
              "      <td>0</td>\n",
              "      <td>3</td>\n",
              "      <td>1</td>\n",
              "    </tr>\n",
              "  </tbody>\n",
              "</table>\n",
              "</div>"
            ],
            "text/plain": [
              "   datetime  city  state  country  ...  date posted  month  season  part of day\n",
              "0       371  2139     44        0  ...          161      0       3            1\n",
              "1       372  9524      4        0  ...          172      0       3            1\n",
              "2       373  2941      4        0  ...          189      0       3            1\n",
              "3       374  3192     30        0  ...          104      0       3            3\n",
              "4       375  3800      4        0  ...          104      0       3            1\n",
              "\n",
              "[5 rows x 9 columns]"
            ]
          },
          "metadata": {
            "tags": []
          },
          "execution_count": 250
        }
      ]
    },
    {
      "cell_type": "code",
      "metadata": {
        "id": "Ju__QdPEkVzm",
        "colab_type": "code",
        "colab": {
          "base_uri": "https://localhost:8080/",
          "height": 34
        },
        "outputId": "208faa5a-fad6-4d21-fcae-0947eeb78649"
      },
      "source": [
        "# Assign X (data) and y (target)\n",
        "X = data\n",
        "y = df1[\"outcome\"]\n",
        "print(X.shape, y.shape)"
      ],
      "execution_count": 251,
      "outputs": [
        {
          "output_type": "stream",
          "text": [
            "(65032, 9) (65032,)\n"
          ],
          "name": "stdout"
        }
      ]
    },
    {
      "cell_type": "code",
      "metadata": {
        "id": "ubZRY6iJkhDn",
        "colab_type": "code",
        "colab": {}
      },
      "source": [
        "from sklearn.model_selection import train_test_split\n",
        "from sklearn.preprocessing import LabelEncoder, MinMaxScaler\n",
        "from tensorflow.keras.utils import to_categorical"
      ],
      "execution_count": 0,
      "outputs": []
    },
    {
      "cell_type": "code",
      "metadata": {
        "id": "Aox94qmRkkpk",
        "colab_type": "code",
        "colab": {}
      },
      "source": [
        "X_train, X_test, y_train, y_test = train_test_split(\n",
        "    X, y, random_state=1, stratify=y)"
      ],
      "execution_count": 0,
      "outputs": []
    },
    {
      "cell_type": "code",
      "metadata": {
        "id": "XAYKKHErknXA",
        "colab_type": "code",
        "colab": {}
      },
      "source": [
        "X_scaler = MinMaxScaler().fit(X_train)\n",
        "X_train_scaled = X_scaler.transform(X_train)\n",
        "X_test_scaled = X_scaler.transform(X_test)"
      ],
      "execution_count": 0,
      "outputs": []
    },
    {
      "cell_type": "code",
      "metadata": {
        "id": "OLEbZVFakpdK",
        "colab_type": "code",
        "colab": {}
      },
      "source": [
        "# Step 1: Label-encode data set\n",
        "label_encoder = LabelEncoder()\n",
        "label_encoder.fit(y_train)\n",
        "encoded_y_train = label_encoder.transform(y_train)\n",
        "encoded_y_test = label_encoder.transform(y_test)"
      ],
      "execution_count": 0,
      "outputs": []
    },
    {
      "cell_type": "code",
      "metadata": {
        "id": "wfm7gV0NkrdT",
        "colab_type": "code",
        "colab": {}
      },
      "source": [
        "# Step 2: Convert encoded labels to one-hot-encoding\n",
        "y_train_categorical = to_categorical(encoded_y_train)\n",
        "y_test_categorical = to_categorical(encoded_y_test)"
      ],
      "execution_count": 0,
      "outputs": []
    },
    {
      "cell_type": "code",
      "metadata": {
        "id": "CLuhjdYtkuRT",
        "colab_type": "code",
        "colab": {}
      },
      "source": [
        "from tensorflow.keras.models import Sequential\n",
        "from tensorflow.keras.layers import Dense"
      ],
      "execution_count": 0,
      "outputs": []
    },
    {
      "cell_type": "code",
      "metadata": {
        "id": "y2jW1TWvkwC6",
        "colab_type": "code",
        "colab": {}
      },
      "source": [
        "# Create model and add layers\n",
        "model = Sequential()\n",
        "model.add(Dense(units=100, activation='relu', input_dim=9))\n",
        "model.add(Dense(units=100, activation='relu'))\n",
        "model.add(Dense(units=2, activation='softmax'))"
      ],
      "execution_count": 0,
      "outputs": []
    },
    {
      "cell_type": "code",
      "metadata": {
        "id": "S8hTsBOjkzDi",
        "colab_type": "code",
        "colab": {}
      },
      "source": [
        "# Compile and fit the model\n",
        "model.compile(optimizer='adam',\n",
        "              loss='categorical_crossentropy',\n",
        "              metrics=['accuracy'])"
      ],
      "execution_count": 0,
      "outputs": []
    },
    {
      "cell_type": "code",
      "metadata": {
        "id": "pjSqjrWok1qm",
        "colab_type": "code",
        "colab": {
          "base_uri": "https://localhost:8080/",
          "height": 255
        },
        "outputId": "7c75c28a-9626-485d-dddf-2264aca70a52"
      },
      "source": [
        "model.summary()"
      ],
      "execution_count": 260,
      "outputs": [
        {
          "output_type": "stream",
          "text": [
            "Model: \"sequential_12\"\n",
            "_________________________________________________________________\n",
            "Layer (type)                 Output Shape              Param #   \n",
            "=================================================================\n",
            "dense_36 (Dense)             (None, 100)               1000      \n",
            "_________________________________________________________________\n",
            "dense_37 (Dense)             (None, 100)               10100     \n",
            "_________________________________________________________________\n",
            "dense_38 (Dense)             (None, 2)                 202       \n",
            "=================================================================\n",
            "Total params: 11,302\n",
            "Trainable params: 11,302\n",
            "Non-trainable params: 0\n",
            "_________________________________________________________________\n"
          ],
          "name": "stdout"
        }
      ]
    },
    {
      "cell_type": "code",
      "metadata": {
        "id": "dznYYNbBk4yy",
        "colab_type": "code",
        "colab": {
          "base_uri": "https://localhost:8080/",
          "height": 2074
        },
        "outputId": "28c399eb-ef4d-42f4-d571-df0ce90cf350"
      },
      "source": [
        "model.fit(\n",
        "    X_train_scaled,\n",
        "    y_train_categorical,\n",
        "    epochs=60,\n",
        "    shuffle=True,\n",
        "    verbose=2\n",
        ")"
      ],
      "execution_count": 261,
      "outputs": [
        {
          "output_type": "stream",
          "text": [
            "Epoch 1/60\n",
            "48774/48774 - 2s - loss: 0.3791 - acc: 0.8489\n",
            "Epoch 2/60\n",
            "48774/48774 - 2s - loss: 0.3192 - acc: 0.8630\n",
            "Epoch 3/60\n",
            "48774/48774 - 2s - loss: 0.3024 - acc: 0.8610\n",
            "Epoch 4/60\n",
            "48774/48774 - 2s - loss: 0.2619 - acc: 0.8650\n",
            "Epoch 5/60\n",
            "48774/48774 - 2s - loss: 0.1859 - acc: 0.9213\n",
            "Epoch 6/60\n",
            "48774/48774 - 2s - loss: 0.1209 - acc: 0.9809\n",
            "Epoch 7/60\n",
            "48774/48774 - 2s - loss: 0.0727 - acc: 0.9964\n",
            "Epoch 8/60\n",
            "48774/48774 - 2s - loss: 0.0354 - acc: 0.9997\n",
            "Epoch 9/60\n",
            "48774/48774 - 2s - loss: 0.0155 - acc: 1.0000\n",
            "Epoch 10/60\n",
            "48774/48774 - 2s - loss: 0.0065 - acc: 1.0000\n",
            "Epoch 11/60\n",
            "48774/48774 - 2s - loss: 0.0026 - acc: 1.0000\n",
            "Epoch 12/60\n",
            "48774/48774 - 2s - loss: 0.0011 - acc: 1.0000\n",
            "Epoch 13/60\n",
            "48774/48774 - 2s - loss: 0.0107 - acc: 0.9975\n",
            "Epoch 14/60\n",
            "48774/48774 - 2s - loss: 4.7203e-04 - acc: 1.0000\n",
            "Epoch 15/60\n",
            "48774/48774 - 2s - loss: 3.3788e-04 - acc: 1.0000\n",
            "Epoch 16/60\n",
            "48774/48774 - 2s - loss: 2.8241e-04 - acc: 1.0000\n",
            "Epoch 17/60\n",
            "48774/48774 - 2s - loss: 2.2239e-04 - acc: 1.0000\n",
            "Epoch 18/60\n",
            "48774/48774 - 2s - loss: 1.5649e-04 - acc: 1.0000\n",
            "Epoch 19/60\n",
            "48774/48774 - 2s - loss: 9.6904e-05 - acc: 1.0000\n",
            "Epoch 20/60\n",
            "48774/48774 - 2s - loss: 5.0109e-05 - acc: 1.0000\n",
            "Epoch 21/60\n",
            "48774/48774 - 2s - loss: 0.0109 - acc: 0.9980\n",
            "Epoch 22/60\n",
            "48774/48774 - 2s - loss: 4.5707e-05 - acc: 1.0000\n",
            "Epoch 23/60\n",
            "48774/48774 - 2s - loss: 2.7363e-05 - acc: 1.0000\n",
            "Epoch 24/60\n",
            "48774/48774 - 2s - loss: 2.1494e-05 - acc: 1.0000\n",
            "Epoch 25/60\n",
            "48774/48774 - 2s - loss: 1.8428e-05 - acc: 1.0000\n",
            "Epoch 26/60\n",
            "48774/48774 - 2s - loss: 1.6273e-05 - acc: 1.0000\n",
            "Epoch 27/60\n",
            "48774/48774 - 2s - loss: 1.4190e-05 - acc: 1.0000\n",
            "Epoch 28/60\n",
            "48774/48774 - 2s - loss: 1.2000e-05 - acc: 1.0000\n",
            "Epoch 29/60\n",
            "48774/48774 - 2s - loss: 9.4701e-06 - acc: 1.0000\n",
            "Epoch 30/60\n",
            "48774/48774 - 2s - loss: 6.7758e-06 - acc: 1.0000\n",
            "Epoch 31/60\n",
            "48774/48774 - 2s - loss: 4.1572e-06 - acc: 1.0000\n",
            "Epoch 32/60\n",
            "48774/48774 - 2s - loss: 0.0223 - acc: 0.9976\n",
            "Epoch 33/60\n",
            "48774/48774 - 2s - loss: 1.8374e-05 - acc: 1.0000\n",
            "Epoch 34/60\n",
            "48774/48774 - 2s - loss: 1.1136e-05 - acc: 1.0000\n",
            "Epoch 35/60\n",
            "48774/48774 - 2s - loss: 7.2630e-06 - acc: 1.0000\n",
            "Epoch 36/60\n",
            "48774/48774 - 2s - loss: 5.0775e-06 - acc: 1.0000\n",
            "Epoch 37/60\n",
            "48774/48774 - 2s - loss: 3.6647e-06 - acc: 1.0000\n",
            "Epoch 38/60\n",
            "48774/48774 - 2s - loss: 2.8257e-06 - acc: 1.0000\n",
            "Epoch 39/60\n",
            "48774/48774 - 2s - loss: 2.3520e-06 - acc: 1.0000\n",
            "Epoch 40/60\n",
            "48774/48774 - 2s - loss: 2.0354e-06 - acc: 1.0000\n",
            "Epoch 41/60\n",
            "48774/48774 - 2s - loss: 1.7919e-06 - acc: 1.0000\n",
            "Epoch 42/60\n",
            "48774/48774 - 2s - loss: 1.4794e-06 - acc: 1.0000\n",
            "Epoch 43/60\n",
            "48774/48774 - 2s - loss: 1.0803e-06 - acc: 1.0000\n",
            "Epoch 44/60\n",
            "48774/48774 - 2s - loss: 7.1040e-07 - acc: 1.0000\n",
            "Epoch 45/60\n",
            "48774/48774 - 2s - loss: 0.0368 - acc: 0.9964\n",
            "Epoch 46/60\n",
            "48774/48774 - 2s - loss: 7.1768e-06 - acc: 1.0000\n",
            "Epoch 47/60\n",
            "48774/48774 - 2s - loss: 4.2258e-06 - acc: 1.0000\n",
            "Epoch 48/60\n",
            "48774/48774 - 2s - loss: 2.8254e-06 - acc: 1.0000\n",
            "Epoch 49/60\n",
            "48774/48774 - 2s - loss: 2.0371e-06 - acc: 1.0000\n",
            "Epoch 50/60\n",
            "48774/48774 - 2s - loss: 1.5410e-06 - acc: 1.0000\n",
            "Epoch 51/60\n",
            "48774/48774 - 2s - loss: 1.2027e-06 - acc: 1.0000\n",
            "Epoch 52/60\n",
            "48774/48774 - 2s - loss: 9.4013e-07 - acc: 1.0000\n",
            "Epoch 53/60\n",
            "48774/48774 - 2s - loss: 7.2042e-07 - acc: 1.0000\n",
            "Epoch 54/60\n",
            "48774/48774 - 2s - loss: 5.7241e-07 - acc: 1.0000\n",
            "Epoch 55/60\n",
            "48774/48774 - 2s - loss: 4.9057e-07 - acc: 1.0000\n",
            "Epoch 56/60\n",
            "48774/48774 - 2s - loss: 4.0065e-07 - acc: 1.0000\n",
            "Epoch 57/60\n",
            "48774/48774 - 2s - loss: 3.0049e-07 - acc: 1.0000\n",
            "Epoch 58/60\n",
            "48774/48774 - 2s - loss: 2.1317e-07 - acc: 1.0000\n",
            "Epoch 59/60\n",
            "48774/48774 - 2s - loss: 1.3553e-07 - acc: 1.0000\n",
            "Epoch 60/60\n",
            "48774/48774 - 2s - loss: 7.7960e-08 - acc: 1.0000\n"
          ],
          "name": "stdout"
        },
        {
          "output_type": "execute_result",
          "data": {
            "text/plain": [
              "<tensorflow.python.keras.callbacks.History at 0x7fc80e4e60b8>"
            ]
          },
          "metadata": {
            "tags": []
          },
          "execution_count": 261
        }
      ]
    },
    {
      "cell_type": "code",
      "metadata": {
        "id": "-szEevtQk_LT",
        "colab_type": "code",
        "colab": {
          "base_uri": "https://localhost:8080/",
          "height": 51
        },
        "outputId": "ab68a872-eaef-4bbd-b7cc-eab56f718533"
      },
      "source": [
        "model_loss, model_accuracy = model.evaluate(\n",
        "    X_test_scaled, y_test_categorical, verbose=2)\n",
        "print(\n",
        "    f\"Normal Neural Network - Loss: {model_loss}, Accuracy: {model_accuracy}\")"
      ],
      "execution_count": 262,
      "outputs": [
        {
          "output_type": "stream",
          "text": [
            "16258/16258 - 0s - loss: 6.5009e-08 - acc: 1.0000\n",
            "Normal Neural Network - Loss: 6.500857118014677e-08, Accuracy: 1.0\n"
          ],
          "name": "stdout"
        }
      ]
    },
    {
      "cell_type": "code",
      "metadata": {
        "id": "ob_FEurKlBjz",
        "colab_type": "code",
        "colab": {}
      },
      "source": [
        "encoded_predictions = model.predict_classes(X_test_scaled[:20])\n",
        "prediction_labels = label_encoder.inverse_transform(encoded_predictions)"
      ],
      "execution_count": 0,
      "outputs": []
    },
    {
      "cell_type": "code",
      "metadata": {
        "id": "LHfHTFzKlDvP",
        "colab_type": "code",
        "colab": {
          "base_uri": "https://localhost:8080/",
          "height": 68
        },
        "outputId": "fea34e47-1276-426f-fd71-3008e5c96a5a"
      },
      "source": [
        "print(f\"Predicted classes: {prediction_labels}\")\n",
        "print(f\"Actual Labels: {list(y_test[:20])}\")"
      ],
      "execution_count": 264,
      "outputs": [
        {
          "output_type": "stream",
          "text": [
            "Predicted classes: ['0' '1' '0' '1' '1' '0' '1' '1' '1' '1' '1' '1' '1' '1' '1' '1' '1' '1'\n",
            " '0' '1']\n",
            "Actual Labels: ['0', '1', '0', '1', '1', '0', '1', '1', '1', '1', '1', '1', '1', '1', '1', '1', '1', '1', '0', '1']\n"
          ],
          "name": "stdout"
        }
      ]
    }
  ]
}