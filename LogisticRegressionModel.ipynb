{
  "nbformat": 4,
  "nbformat_minor": 0,
  "metadata": {
    "colab": {
      "name": "LogisticRegressionModel.ipynb",
      "version": "0.3.2",
      "provenance": [],
      "collapsed_sections": []
    },
    "kernelspec": {
      "name": "python3",
      "display_name": "Python 3"
    }
  },
  "cells": [
    {
      "cell_type": "code",
      "metadata": {
        "id": "4llHcxUIdKhL",
        "colab_type": "code",
        "colab": {}
      },
      "source": [
        "%matplotlib inline\n",
        "import matplotlib.pyplot as plt\n",
        "import pandas as pd\n",
        "import ssl\n",
        "ssl._create_default_https_context = ssl._create_unverified_context"
      ],
      "execution_count": 0,
      "outputs": []
    },
    {
      "cell_type": "code",
      "metadata": {
        "id": "2yqzSjxVeP2P",
        "colab_type": "code",
        "outputId": "73b36497-e61f-422d-a659-a8b60ea57c79",
        "colab": {
          "base_uri": "https://localhost:8080/",
          "height": 476
        }
      },
      "source": [
        "url = 'https://raw.githubusercontent.com/lucyhohler/Final-Project---Data-Analytics/master/Resources/ufo-sightings.csv'\n",
        "df = pd.read_csv(url, sep=\",\", na_filter=False)\n",
        "df.head()"
      ],
      "execution_count": 2,
      "outputs": [
        {
          "output_type": "execute_result",
          "data": {
            "text/html": [
              "<div>\n",
              "<style scoped>\n",
              "    .dataframe tbody tr th:only-of-type {\n",
              "        vertical-align: middle;\n",
              "    }\n",
              "\n",
              "    .dataframe tbody tr th {\n",
              "        vertical-align: top;\n",
              "    }\n",
              "\n",
              "    .dataframe thead th {\n",
              "        text-align: right;\n",
              "    }\n",
              "</style>\n",
              "<table border=\"1\" class=\"dataframe\">\n",
              "  <thead>\n",
              "    <tr style=\"text-align: right;\">\n",
              "      <th></th>\n",
              "      <th>datetime</th>\n",
              "      <th>city</th>\n",
              "      <th>state</th>\n",
              "      <th>country</th>\n",
              "      <th>shape</th>\n",
              "      <th>duration (seconds)</th>\n",
              "      <th>duration (hours/min)</th>\n",
              "      <th>comments</th>\n",
              "      <th>date posted</th>\n",
              "      <th>latitude</th>\n",
              "      <th>longitude</th>\n",
              "      <th>month</th>\n",
              "      <th>season</th>\n",
              "      <th>time of day</th>\n",
              "      <th>part of day</th>\n",
              "    </tr>\n",
              "  </thead>\n",
              "  <tbody>\n",
              "    <tr>\n",
              "      <th>0</th>\n",
              "      <td>1/10/1947 20:00</td>\n",
              "      <td>conroe</td>\n",
              "      <td>tx</td>\n",
              "      <td>us</td>\n",
              "      <td>other</td>\n",
              "      <td>4</td>\n",
              "      <td>3 to4 sec.</td>\n",
              "      <td>The date was early 1947 before Arnold&amp;#39s &amp;qu...</td>\n",
              "      <td>4/16/2005</td>\n",
              "      <td>30.311667</td>\n",
              "      <td>-95.455833</td>\n",
              "      <td>1</td>\n",
              "      <td>Winter</td>\n",
              "      <td>8:00 PM</td>\n",
              "      <td>EVENING</td>\n",
              "    </tr>\n",
              "    <tr>\n",
              "      <th>1</th>\n",
              "      <td>1/10/1959 18:30</td>\n",
              "      <td>south san francisco</td>\n",
              "      <td>ca</td>\n",
              "      <td>us</td>\n",
              "      <td>disk</td>\n",
              "      <td>120</td>\n",
              "      <td>2 minutes</td>\n",
              "      <td>Its was approximately 6:30pm&amp;#44 I was sitting...</td>\n",
              "      <td>4/27/2004</td>\n",
              "      <td>37.654722</td>\n",
              "      <td>-122.406667</td>\n",
              "      <td>1</td>\n",
              "      <td>Winter</td>\n",
              "      <td>6:30 PM</td>\n",
              "      <td>EVENING</td>\n",
              "    </tr>\n",
              "    <tr>\n",
              "      <th>2</th>\n",
              "      <td>1/10/1964 20:00</td>\n",
              "      <td>el cerrito (over old berkeley dump)</td>\n",
              "      <td>ca</td>\n",
              "      <td>us</td>\n",
              "      <td>fireball</td>\n",
              "      <td>120</td>\n",
              "      <td>2 minutes</td>\n",
              "      <td>bal of fire in the sky no reported air crashes...</td>\n",
              "      <td>5/15/2006</td>\n",
              "      <td>37.915833</td>\n",
              "      <td>-122.310556</td>\n",
              "      <td>1</td>\n",
              "      <td>Winter</td>\n",
              "      <td>8:00 PM</td>\n",
              "      <td>EVENING</td>\n",
              "    </tr>\n",
              "    <tr>\n",
              "      <th>3</th>\n",
              "      <td>1/10/1980 0:00</td>\n",
              "      <td>exeter</td>\n",
              "      <td>nh</td>\n",
              "      <td>us</td>\n",
              "      <td>disk</td>\n",
              "      <td>7800</td>\n",
              "      <td>10min to 2hrs</td>\n",
              "      <td>saw what appeared as very bright star&amp;#44 some...</td>\n",
              "      <td>2/18/2001</td>\n",
              "      <td>42.981389</td>\n",
              "      <td>-70.948333</td>\n",
              "      <td>1</td>\n",
              "      <td>Winter</td>\n",
              "      <td>12:00 AM</td>\n",
              "      <td>NIGHT</td>\n",
              "    </tr>\n",
              "    <tr>\n",
              "      <th>4</th>\n",
              "      <td>1/10/1981 20:30</td>\n",
              "      <td>glendora</td>\n",
              "      <td>ca</td>\n",
              "      <td>us</td>\n",
              "      <td>unknown</td>\n",
              "      <td>60</td>\n",
              "      <td>1 minute</td>\n",
              "      <td>On a very foggy night in 1981 I was illuminate...</td>\n",
              "      <td>2/18/2001</td>\n",
              "      <td>34.136111</td>\n",
              "      <td>-117.864444</td>\n",
              "      <td>1</td>\n",
              "      <td>Winter</td>\n",
              "      <td>8:30 PM</td>\n",
              "      <td>EVENING</td>\n",
              "    </tr>\n",
              "  </tbody>\n",
              "</table>\n",
              "</div>"
            ],
            "text/plain": [
              "          datetime                                 city  ... time of day part of day\n",
              "0  1/10/1947 20:00                               conroe  ...     8:00 PM     EVENING\n",
              "1  1/10/1959 18:30                  south san francisco  ...     6:30 PM     EVENING\n",
              "2  1/10/1964 20:00  el cerrito (over old berkeley dump)  ...     8:00 PM     EVENING\n",
              "3   1/10/1980 0:00                               exeter  ...    12:00 AM       NIGHT\n",
              "4  1/10/1981 20:30                             glendora  ...     8:30 PM     EVENING\n",
              "\n",
              "[5 rows x 15 columns]"
            ]
          },
          "metadata": {
            "tags": []
          },
          "execution_count": 2
        }
      ]
    },
    {
      "cell_type": "code",
      "metadata": {
        "id": "EEfe3GspdczT",
        "colab_type": "code",
        "outputId": "404270ed-90c1-42e9-c9c3-2e7506423481",
        "colab": {
          "base_uri": "https://localhost:8080/",
          "height": 204
        }
      },
      "source": [
        "data = df.drop(columns=[\"duration (seconds)\", \"duration (hours/min)\", \"comments\", \"latitude\", \"longitude \", \"time of day\", \"country\"])\n",
        "df1 = df.drop(columns=[\"datetime\", \"city\", \"country\", \"duration (seconds)\", \"duration (hours/min)\", \"comments\", \"date posted\", \"latitude\", \"longitude \", \"month\", \"time of day\"])\n",
        "data.head()"
      ],
      "execution_count": 3,
      "outputs": [
        {
          "output_type": "execute_result",
          "data": {
            "text/html": [
              "<div>\n",
              "<style scoped>\n",
              "    .dataframe tbody tr th:only-of-type {\n",
              "        vertical-align: middle;\n",
              "    }\n",
              "\n",
              "    .dataframe tbody tr th {\n",
              "        vertical-align: top;\n",
              "    }\n",
              "\n",
              "    .dataframe thead th {\n",
              "        text-align: right;\n",
              "    }\n",
              "</style>\n",
              "<table border=\"1\" class=\"dataframe\">\n",
              "  <thead>\n",
              "    <tr style=\"text-align: right;\">\n",
              "      <th></th>\n",
              "      <th>datetime</th>\n",
              "      <th>city</th>\n",
              "      <th>state</th>\n",
              "      <th>shape</th>\n",
              "      <th>date posted</th>\n",
              "      <th>month</th>\n",
              "      <th>season</th>\n",
              "      <th>part of day</th>\n",
              "    </tr>\n",
              "  </thead>\n",
              "  <tbody>\n",
              "    <tr>\n",
              "      <th>0</th>\n",
              "      <td>1/10/1947 20:00</td>\n",
              "      <td>conroe</td>\n",
              "      <td>tx</td>\n",
              "      <td>other</td>\n",
              "      <td>4/16/2005</td>\n",
              "      <td>1</td>\n",
              "      <td>Winter</td>\n",
              "      <td>EVENING</td>\n",
              "    </tr>\n",
              "    <tr>\n",
              "      <th>1</th>\n",
              "      <td>1/10/1959 18:30</td>\n",
              "      <td>south san francisco</td>\n",
              "      <td>ca</td>\n",
              "      <td>disk</td>\n",
              "      <td>4/27/2004</td>\n",
              "      <td>1</td>\n",
              "      <td>Winter</td>\n",
              "      <td>EVENING</td>\n",
              "    </tr>\n",
              "    <tr>\n",
              "      <th>2</th>\n",
              "      <td>1/10/1964 20:00</td>\n",
              "      <td>el cerrito (over old berkeley dump)</td>\n",
              "      <td>ca</td>\n",
              "      <td>fireball</td>\n",
              "      <td>5/15/2006</td>\n",
              "      <td>1</td>\n",
              "      <td>Winter</td>\n",
              "      <td>EVENING</td>\n",
              "    </tr>\n",
              "    <tr>\n",
              "      <th>3</th>\n",
              "      <td>1/10/1980 0:00</td>\n",
              "      <td>exeter</td>\n",
              "      <td>nh</td>\n",
              "      <td>disk</td>\n",
              "      <td>2/18/2001</td>\n",
              "      <td>1</td>\n",
              "      <td>Winter</td>\n",
              "      <td>NIGHT</td>\n",
              "    </tr>\n",
              "    <tr>\n",
              "      <th>4</th>\n",
              "      <td>1/10/1981 20:30</td>\n",
              "      <td>glendora</td>\n",
              "      <td>ca</td>\n",
              "      <td>unknown</td>\n",
              "      <td>2/18/2001</td>\n",
              "      <td>1</td>\n",
              "      <td>Winter</td>\n",
              "      <td>EVENING</td>\n",
              "    </tr>\n",
              "  </tbody>\n",
              "</table>\n",
              "</div>"
            ],
            "text/plain": [
              "          datetime                                 city  ...  season part of day\n",
              "0  1/10/1947 20:00                               conroe  ...  Winter     EVENING\n",
              "1  1/10/1959 18:30                  south san francisco  ...  Winter     EVENING\n",
              "2  1/10/1964 20:00  el cerrito (over old berkeley dump)  ...  Winter     EVENING\n",
              "3   1/10/1980 0:00                               exeter  ...  Winter       NIGHT\n",
              "4  1/10/1981 20:30                             glendora  ...  Winter     EVENING\n",
              "\n",
              "[5 rows x 8 columns]"
            ]
          },
          "metadata": {
            "tags": []
          },
          "execution_count": 3
        }
      ]
    },
    {
      "cell_type": "code",
      "metadata": {
        "id": "NtKgQoenJpCX",
        "colab_type": "code",
        "colab": {
          "base_uri": "https://localhost:8080/",
          "height": 204
        },
        "outputId": "ae4c1a21-381a-444f-9af2-f676bb517a3c"
      },
      "source": [
        "df1['outcome'] = '1'\n",
        "\n",
        "import math\n",
        "\n",
        "for index, row in df1.iterrows():\n",
        "    outcome = '1' \n",
        "    #print(row['shape'])\n",
        "    if not row['shape'] or row['shape'] == 'other' or row['shape'] == 'unknown':\n",
        "        outcome = '0'\n",
        "    row['outcome'] = outcome\n",
        "\n",
        "df1.head()"
      ],
      "execution_count": 4,
      "outputs": [
        {
          "output_type": "execute_result",
          "data": {
            "text/html": [
              "<div>\n",
              "<style scoped>\n",
              "    .dataframe tbody tr th:only-of-type {\n",
              "        vertical-align: middle;\n",
              "    }\n",
              "\n",
              "    .dataframe tbody tr th {\n",
              "        vertical-align: top;\n",
              "    }\n",
              "\n",
              "    .dataframe thead th {\n",
              "        text-align: right;\n",
              "    }\n",
              "</style>\n",
              "<table border=\"1\" class=\"dataframe\">\n",
              "  <thead>\n",
              "    <tr style=\"text-align: right;\">\n",
              "      <th></th>\n",
              "      <th>state</th>\n",
              "      <th>shape</th>\n",
              "      <th>season</th>\n",
              "      <th>part of day</th>\n",
              "      <th>outcome</th>\n",
              "    </tr>\n",
              "  </thead>\n",
              "  <tbody>\n",
              "    <tr>\n",
              "      <th>0</th>\n",
              "      <td>tx</td>\n",
              "      <td>other</td>\n",
              "      <td>Winter</td>\n",
              "      <td>EVENING</td>\n",
              "      <td>0</td>\n",
              "    </tr>\n",
              "    <tr>\n",
              "      <th>1</th>\n",
              "      <td>ca</td>\n",
              "      <td>disk</td>\n",
              "      <td>Winter</td>\n",
              "      <td>EVENING</td>\n",
              "      <td>1</td>\n",
              "    </tr>\n",
              "    <tr>\n",
              "      <th>2</th>\n",
              "      <td>ca</td>\n",
              "      <td>fireball</td>\n",
              "      <td>Winter</td>\n",
              "      <td>EVENING</td>\n",
              "      <td>1</td>\n",
              "    </tr>\n",
              "    <tr>\n",
              "      <th>3</th>\n",
              "      <td>nh</td>\n",
              "      <td>disk</td>\n",
              "      <td>Winter</td>\n",
              "      <td>NIGHT</td>\n",
              "      <td>1</td>\n",
              "    </tr>\n",
              "    <tr>\n",
              "      <th>4</th>\n",
              "      <td>ca</td>\n",
              "      <td>unknown</td>\n",
              "      <td>Winter</td>\n",
              "      <td>EVENING</td>\n",
              "      <td>0</td>\n",
              "    </tr>\n",
              "  </tbody>\n",
              "</table>\n",
              "</div>"
            ],
            "text/plain": [
              "  state     shape  season part of day outcome\n",
              "0    tx     other  Winter     EVENING       0\n",
              "1    ca      disk  Winter     EVENING       1\n",
              "2    ca  fireball  Winter     EVENING       1\n",
              "3    nh      disk  Winter       NIGHT       1\n",
              "4    ca   unknown  Winter     EVENING       0"
            ]
          },
          "metadata": {
            "tags": []
          },
          "execution_count": 4
        }
      ]
    },
    {
      "cell_type": "code",
      "metadata": {
        "id": "gfnNRE0Fdwo5",
        "colab_type": "code",
        "outputId": "de13223f-78b5-4c4a-b8bc-9eb1f0f7a6eb",
        "colab": {
          "base_uri": "https://localhost:8080/",
          "height": 204
        }
      },
      "source": [
        "from sklearn.preprocessing import LabelEncoder\n",
        "\n",
        "data = data.apply(LabelEncoder().fit_transform)\n",
        "data.head()"
      ],
      "execution_count": 5,
      "outputs": [
        {
          "output_type": "execute_result",
          "data": {
            "text/html": [
              "<div>\n",
              "<style scoped>\n",
              "    .dataframe tbody tr th:only-of-type {\n",
              "        vertical-align: middle;\n",
              "    }\n",
              "\n",
              "    .dataframe tbody tr th {\n",
              "        vertical-align: top;\n",
              "    }\n",
              "\n",
              "    .dataframe thead th {\n",
              "        text-align: right;\n",
              "    }\n",
              "</style>\n",
              "<table border=\"1\" class=\"dataframe\">\n",
              "  <thead>\n",
              "    <tr style=\"text-align: right;\">\n",
              "      <th></th>\n",
              "      <th>datetime</th>\n",
              "      <th>city</th>\n",
              "      <th>state</th>\n",
              "      <th>shape</th>\n",
              "      <th>date posted</th>\n",
              "      <th>month</th>\n",
              "      <th>season</th>\n",
              "      <th>part of day</th>\n",
              "    </tr>\n",
              "  </thead>\n",
              "  <tbody>\n",
              "    <tr>\n",
              "      <th>0</th>\n",
              "      <td>371</td>\n",
              "      <td>2139</td>\n",
              "      <td>44</td>\n",
              "      <td>20</td>\n",
              "      <td>161</td>\n",
              "      <td>0</td>\n",
              "      <td>3</td>\n",
              "      <td>1</td>\n",
              "    </tr>\n",
              "    <tr>\n",
              "      <th>1</th>\n",
              "      <td>372</td>\n",
              "      <td>9524</td>\n",
              "      <td>4</td>\n",
              "      <td>12</td>\n",
              "      <td>172</td>\n",
              "      <td>0</td>\n",
              "      <td>3</td>\n",
              "      <td>1</td>\n",
              "    </tr>\n",
              "    <tr>\n",
              "      <th>2</th>\n",
              "      <td>373</td>\n",
              "      <td>2941</td>\n",
              "      <td>4</td>\n",
              "      <td>14</td>\n",
              "      <td>189</td>\n",
              "      <td>0</td>\n",
              "      <td>3</td>\n",
              "      <td>1</td>\n",
              "    </tr>\n",
              "    <tr>\n",
              "      <th>3</th>\n",
              "      <td>374</td>\n",
              "      <td>3192</td>\n",
              "      <td>30</td>\n",
              "      <td>12</td>\n",
              "      <td>104</td>\n",
              "      <td>0</td>\n",
              "      <td>3</td>\n",
              "      <td>3</td>\n",
              "    </tr>\n",
              "    <tr>\n",
              "      <th>4</th>\n",
              "      <td>375</td>\n",
              "      <td>3800</td>\n",
              "      <td>4</td>\n",
              "      <td>28</td>\n",
              "      <td>104</td>\n",
              "      <td>0</td>\n",
              "      <td>3</td>\n",
              "      <td>1</td>\n",
              "    </tr>\n",
              "  </tbody>\n",
              "</table>\n",
              "</div>"
            ],
            "text/plain": [
              "   datetime  city  state  shape  date posted  month  season  part of day\n",
              "0       371  2139     44     20          161      0       3            1\n",
              "1       372  9524      4     12          172      0       3            1\n",
              "2       373  2941      4     14          189      0       3            1\n",
              "3       374  3192     30     12          104      0       3            3\n",
              "4       375  3800      4     28          104      0       3            1"
            ]
          },
          "metadata": {
            "tags": []
          },
          "execution_count": 5
        }
      ]
    },
    {
      "cell_type": "code",
      "metadata": {
        "id": "pJ-nSos-d0En",
        "colab_type": "code",
        "outputId": "60f30518-48ef-48c3-9260-188beec2067c",
        "colab": {
          "base_uri": "https://localhost:8080/",
          "height": 34
        }
      },
      "source": [
        "# Assign X (data) and y (target)\n",
        "\n",
        "X = data\n",
        "y = df1[\"outcome\"]\n",
        "print(X.shape, y.shape)"
      ],
      "execution_count": 6,
      "outputs": [
        {
          "output_type": "stream",
          "text": [
            "(65032, 8) (65032,)\n"
          ],
          "name": "stdout"
        }
      ]
    },
    {
      "cell_type": "code",
      "metadata": {
        "id": "WB3jsK26d2Q0",
        "colab_type": "code",
        "colab": {}
      },
      "source": [
        "from sklearn.model_selection import train_test_split\n",
        "\n",
        "X_train, X_test, y_train, y_test = train_test_split(X, y, random_state=1, stratify=y)"
      ],
      "execution_count": 0,
      "outputs": []
    },
    {
      "cell_type": "code",
      "metadata": {
        "id": "gxBeCrypnyo5",
        "colab_type": "code",
        "outputId": "58ede032-44b1-4919-9028-49c57dcefd04",
        "colab": {
          "base_uri": "https://localhost:8080/",
          "height": 102
        }
      },
      "source": [
        "from sklearn.linear_model import LogisticRegression\n",
        "classifier = LogisticRegression()\n",
        "classifier"
      ],
      "execution_count": 8,
      "outputs": [
        {
          "output_type": "execute_result",
          "data": {
            "text/plain": [
              "LogisticRegression(C=1.0, class_weight=None, dual=False, fit_intercept=True,\n",
              "                   intercept_scaling=1, l1_ratio=None, max_iter=100,\n",
              "                   multi_class='warn', n_jobs=None, penalty='l2',\n",
              "                   random_state=None, solver='warn', tol=0.0001, verbose=0,\n",
              "                   warm_start=False)"
            ]
          },
          "metadata": {
            "tags": []
          },
          "execution_count": 8
        }
      ]
    },
    {
      "cell_type": "code",
      "metadata": {
        "id": "r3U7czvNn18E",
        "colab_type": "code",
        "outputId": "455329aa-5c19-4a65-c31c-9c345dd5bb13",
        "colab": {
          "base_uri": "https://localhost:8080/",
          "height": 156
        }
      },
      "source": [
        "classifier.fit(X_train, y_train)"
      ],
      "execution_count": 9,
      "outputs": [
        {
          "output_type": "stream",
          "text": [
            "/usr/local/lib/python3.6/dist-packages/sklearn/linear_model/logistic.py:432: FutureWarning: Default solver will be changed to 'lbfgs' in 0.22. Specify a solver to silence this warning.\n",
            "  FutureWarning)\n"
          ],
          "name": "stderr"
        },
        {
          "output_type": "execute_result",
          "data": {
            "text/plain": [
              "LogisticRegression(C=1.0, class_weight=None, dual=False, fit_intercept=True,\n",
              "                   intercept_scaling=1, l1_ratio=None, max_iter=100,\n",
              "                   multi_class='warn', n_jobs=None, penalty='l2',\n",
              "                   random_state=None, solver='warn', tol=0.0001, verbose=0,\n",
              "                   warm_start=False)"
            ]
          },
          "metadata": {
            "tags": []
          },
          "execution_count": 9
        }
      ]
    },
    {
      "cell_type": "code",
      "metadata": {
        "id": "3XqcW0qvn6IB",
        "colab_type": "code",
        "outputId": "68cc17c1-39f1-4b24-8cc8-4c1a00374f64",
        "colab": {
          "base_uri": "https://localhost:8080/",
          "height": 51
        }
      },
      "source": [
        "print(f\"Training Data Score: {classifier.score(X_train, y_train)}\")\n",
        "print(f\"Testing Data Score: {classifier.score(X_test, y_test)}\")"
      ],
      "execution_count": 10,
      "outputs": [
        {
          "output_type": "stream",
          "text": [
            "Training Data Score: 0.8371263378029278\n",
            "Testing Data Score: 0.8376184032476319\n"
          ],
          "name": "stdout"
        }
      ]
    },
    {
      "cell_type": "code",
      "metadata": {
        "id": "J3hQUUyhn9Lq",
        "colab_type": "code",
        "outputId": "25992edd-87e6-48e4-8c71-c3854fb862d5",
        "colab": {
          "base_uri": "https://localhost:8080/",
          "height": 51
        }
      },
      "source": [
        "predictions = classifier.predict(X_test)\n",
        "print(f\"First 7 Predictions:   {predictions[:7]}\")\n",
        "print(f\"First 7 Actual labels: {y_test[:7].tolist()}\")"
      ],
      "execution_count": 11,
      "outputs": [
        {
          "output_type": "stream",
          "text": [
            "First 7 Predictions:   ['1' '1' '1' '1' '1' '0' '1']\n",
            "First 7 Actual labels: ['0', '1', '0', '1', '1', '0', '1']\n"
          ],
          "name": "stdout"
        }
      ]
    },
    {
      "cell_type": "code",
      "metadata": {
        "id": "iUqfrNVZoAe8",
        "colab_type": "code",
        "outputId": "d5a2a5c0-6b0b-461e-db74-25a3bf9e8281",
        "colab": {
          "base_uri": "https://localhost:8080/",
          "height": 359
        }
      },
      "source": [
        "pd.DataFrame({\"Prediction\": predictions, \"Actual\": y_test}).reset_index(drop=True).head(10)"
      ],
      "execution_count": 12,
      "outputs": [
        {
          "output_type": "execute_result",
          "data": {
            "text/html": [
              "<div>\n",
              "<style scoped>\n",
              "    .dataframe tbody tr th:only-of-type {\n",
              "        vertical-align: middle;\n",
              "    }\n",
              "\n",
              "    .dataframe tbody tr th {\n",
              "        vertical-align: top;\n",
              "    }\n",
              "\n",
              "    .dataframe thead th {\n",
              "        text-align: right;\n",
              "    }\n",
              "</style>\n",
              "<table border=\"1\" class=\"dataframe\">\n",
              "  <thead>\n",
              "    <tr style=\"text-align: right;\">\n",
              "      <th></th>\n",
              "      <th>Prediction</th>\n",
              "      <th>Actual</th>\n",
              "    </tr>\n",
              "  </thead>\n",
              "  <tbody>\n",
              "    <tr>\n",
              "      <th>0</th>\n",
              "      <td>1</td>\n",
              "      <td>0</td>\n",
              "    </tr>\n",
              "    <tr>\n",
              "      <th>1</th>\n",
              "      <td>1</td>\n",
              "      <td>1</td>\n",
              "    </tr>\n",
              "    <tr>\n",
              "      <th>2</th>\n",
              "      <td>1</td>\n",
              "      <td>0</td>\n",
              "    </tr>\n",
              "    <tr>\n",
              "      <th>3</th>\n",
              "      <td>1</td>\n",
              "      <td>1</td>\n",
              "    </tr>\n",
              "    <tr>\n",
              "      <th>4</th>\n",
              "      <td>1</td>\n",
              "      <td>1</td>\n",
              "    </tr>\n",
              "    <tr>\n",
              "      <th>5</th>\n",
              "      <td>0</td>\n",
              "      <td>0</td>\n",
              "    </tr>\n",
              "    <tr>\n",
              "      <th>6</th>\n",
              "      <td>1</td>\n",
              "      <td>1</td>\n",
              "    </tr>\n",
              "    <tr>\n",
              "      <th>7</th>\n",
              "      <td>1</td>\n",
              "      <td>1</td>\n",
              "    </tr>\n",
              "    <tr>\n",
              "      <th>8</th>\n",
              "      <td>1</td>\n",
              "      <td>1</td>\n",
              "    </tr>\n",
              "    <tr>\n",
              "      <th>9</th>\n",
              "      <td>1</td>\n",
              "      <td>1</td>\n",
              "    </tr>\n",
              "  </tbody>\n",
              "</table>\n",
              "</div>"
            ],
            "text/plain": [
              "  Prediction Actual\n",
              "0          1      0\n",
              "1          1      1\n",
              "2          1      0\n",
              "3          1      1\n",
              "4          1      1\n",
              "5          0      0\n",
              "6          1      1\n",
              "7          1      1\n",
              "8          1      1\n",
              "9          1      1"
            ]
          },
          "metadata": {
            "tags": []
          },
          "execution_count": 12
        }
      ]
    }
  ]
}